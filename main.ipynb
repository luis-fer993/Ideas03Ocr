{
 "cells": [
  {
   "cell_type": "code",
   "execution_count": 1,
   "metadata": {},
   "outputs": [
    {
     "name": "stdout",
     "output_type": "stream",
     "text": [
      "Collecting python-dotenv\n",
      "  Downloading python_dotenv-1.0.0-py3-none-any.whl (19 kB)\n",
      "Installing collected packages: python-dotenv\n",
      "Successfully installed python-dotenv-1.0.0\n"
     ]
    },
    {
     "name": "stderr",
     "output_type": "stream",
     "text": [
      "\n",
      "[notice] A new release of pip available: 22.3.1 -> 23.2.1\n",
      "[notice] To update, run: python.exe -m pip install --upgrade pip\n"
     ]
    }
   ],
   "source": [
    "\n",
    "! pip install python-dotenv"
   ]
  },
  {
   "cell_type": "code",
   "execution_count": 2,
   "metadata": {},
   "outputs": [],
   "source": [
    "import cv2\n",
    "import pytesseract\n",
    "import re\n",
    "from PIL import Image\n"
   ]
  },
  {
   "cell_type": "code",
   "execution_count": 3,
   "metadata": {},
   "outputs": [
    {
     "name": "stdout",
     "output_type": "stream",
     "text": [
      "Extracted Code:\n",
      " 104304091\n",
      "\n"
     ]
    }
   ],
   "source": [
    "def preprocess_image(image_path):\n",
    "    # Load the image using OpenCV\n",
    "    image = cv2.imread(image_path)\n",
    "    #image= cv2.resize(image, (800, 500))\n",
    "\n",
    "    # Convert the image to grayscale\n",
    "    #gray_image = cv2.cvtColor(image, cv2.COLOR_BGR2GRAY)\n",
    "\n",
    "    # Apply thresholding to enhance the text\n",
    "    #_, threshold_image = cv2.threshold(gray_image, 0, 255, cv2.THRESH_BINARY + cv2.THRESH_OTSU)\n",
    "    return image#threshold_image\n",
    "\n",
    "\n",
    "def perform_ocr(image):\n",
    "    # Use pytesseract to extract text from the image\n",
    "    extracted_text = pytesseract.image_to_string(image)\n",
    "\n",
    "    return extracted_text\n",
    "\n",
    "# Filter numbers that start with 1 using regular expressions\n",
    "def filter(text):\n",
    "    numbers = re.findall(r'\\b3', text)\n",
    "    return numbers\n",
    "\n",
    "def show_result(image, extracted_text):\n",
    "    # Display the image with the extracted text\n",
    "    #image= cv2.resize(image, (400, 200))\n",
    "    cv2.imshow(\"Image\", image)\n",
    "    #filtered_numbers = filter(extracted_text)\n",
    "    print(\"Extracted Code:\\n\", extracted_text)\n",
    "    cv2.waitKey(0)\n",
    "    cv2.destroyAllWindows()\n",
    "\n",
    "\n",
    "# Replace 'path_to_your_image' with the actual path to your image file\n",
    "image_path = 'img/qrNumbersRotated.png'\n",
    "    \n",
    "    # Preprocess the image\n",
    "preprocessed_image = preprocess_image(image_path)\n",
    "    \n",
    "    # Perform OCR\n",
    "extracted_text = perform_ocr(preprocessed_image)\n",
    "    \n",
    "    # Show the result\n",
    "show_result(preprocessed_image, extracted_text)\n"
   ]
  },
  {
   "cell_type": "code",
   "execution_count": 12,
   "metadata": {},
   "outputs": [
    {
     "name": "stdout",
     "output_type": "stream",
     "text": [
      "104304091\n",
      "\n"
     ]
    },
    {
     "data": {
      "text/plain": [
       "-1"
      ]
     },
     "execution_count": 12,
     "metadata": {},
     "output_type": "execute_result"
    }
   ],
   "source": [
    "# Stack OverFLow example 1\n",
    "import cv2\n",
    "import pytesseract\n",
    "\n",
    "pytesseract.pytesseract.tesseract_cmd = r\"C:\\Users\\luis.chaparro\\AppData\\Local\\Programs\\Tesseract-OCR\\tesseract.exe\"\n",
    "\n",
    "image = cv2.imread('qrNumbersRotated.png', 0)\n",
    "thresh = cv2.threshold(image, 0, 255, cv2.THRESH_BINARY_INV + cv2.THRESH_OTSU)[1]\n",
    "\n",
    "data = pytesseract.image_to_string(thresh, lang='spa',config='--psm 6')\n",
    "print(data)\n",
    "\n",
    "cv2.imshow('thresh', thresh)\n",
    "cv2.waitKey()"
   ]
  },
  {
   "cell_type": "code",
   "execution_count": 6,
   "metadata": {},
   "outputs": [
    {
     "name": "stdout",
     "output_type": "stream",
     "text": [
      " \n",
      "\n"
     ]
    }
   ],
   "source": [
    "import pytesseract\n",
    "from PIL import Image\n",
    "\n",
    "#imageFile = Image.open('im1.jpg')\n",
    "\n",
    "imageFile = cv2.imread('img/'+'images.jpg', 0)\n",
    "image = cv2.threshold(imageFile, 0, 255, cv2.THRESH_BINARY_INV + cv2.THRESH_OTSU)[1]\n",
    "text = pytesseract.image_to_string(image)\n",
    "#osd = pytesseract.image_to_osd(image)\n",
    "print(text,'\\n')"
   ]
  },
  {
   "cell_type": "code",
   "execution_count": 41,
   "metadata": {},
   "outputs": [
    {
     "name": "stdout",
     "output_type": "stream",
     "text": [
      "1\n"
     ]
    }
   ],
   "source": [
    "import sqlite3\n",
    "conn = sqlite3.connect('db/BaseEstudios.db')\n",
    "\n",
    "cursor = conn.cursor()\n",
    "# Define the SQL statement to create a table\n",
    "create_table_sql = '''\n",
    "CREATE TABLE IF NOT EXISTS easyestudios (\n",
    "    idtabla INTEGER PRIMARY KEY,\n",
    "    estudio TEXT,\n",
    "    descripcion TEXT,\n",
    "    idestudio INTEGER\n",
    ");\n",
    "'''\n",
    "\n",
    "q2=\"\"\"\n",
    "SELECT * FROM easyestudios\n",
    "\"\"\"\n",
    "q3=\"\"\"\n",
    "insert into easyestudios (estudio,descripcion,idestudio)\n",
    "values ('EDGE','est2',399)\n",
    "\"\"\"\n",
    "# Execute the SQL statement to create the table\n",
    "cursor.execute(q2)\n",
    "res=cursor.fetchall()\n",
    "print(res[0].index('EDGE'))\n",
    "# Commit the changes to the database\n",
    "conn.commit()\n",
    "\n",
    "\n",
    "# Close the database connect\n"
   ]
  },
  {
   "cell_type": "code",
   "execution_count": 42,
   "metadata": {},
   "outputs": [
    {
     "name": "stdout",
     "output_type": "stream",
     "text": [
      "[(1, 'EDGE', 'Col Edge 1023', 392), (2, 'EDGE', 'est2', 399)]\n"
     ]
    }
   ],
   "source": [
    "#conn.row_factory = sqlite3.Row\n",
    "c = conn.cursor()\n",
    "c.execute('select * from easyestudios')\n",
    "\n",
    "result = c.fetchall()\n",
    "print(result)\n",
    "conn.commit()\n",
    "\n",
    "\n",
    "# Close the database connection\n",
    "conn.close()\n"
   ]
  },
  {
   "cell_type": "code",
   "execution_count": 43,
   "metadata": {},
   "outputs": [
    {
     "name": "stdout",
     "output_type": "stream",
     "text": [
      "[{'idtabla': 1, 'estudio': 'EDGE', 'descripcion': 'Col Edge 1023', 'idestudio': 392}]\n",
      "[{'idtabla': 2, 'estudio': 'EDGE', 'descripcion': 'est2', 'idestudio': 399}]\n"
     ]
    }
   ],
   "source": [
    "\n",
    "def rows_as_dicts(cursor):\n",
    "    columns = [column[0] for column in cursor.description]\n",
    "    for row in cursor.fetchall():\n",
    "        yield dict(zip(columns, row))\n",
    "\n",
    "conn = sqlite3.connect('db/BaseEstudios.db')\n",
    "cursor = conn.cursor()\n",
    "\n",
    "# Execute a SELECT query\n",
    "cursor.execute(\"SELECT * FROM easyestudios\")\n",
    "\n",
    "# Fetch rows as dictionaries using the custom function\n",
    "for row in rows_as_dicts(cursor):\n",
    "    print([row])\n",
    "\n",
    "conn.close()\n"
   ]
  }
 ],
 "metadata": {
  "kernelspec": {
   "display_name": "base",
   "language": "python",
   "name": "python3"
  },
  "language_info": {
   "codemirror_mode": {
    "name": "ipython",
    "version": 3
   },
   "file_extension": ".py",
   "mimetype": "text/x-python",
   "name": "python",
   "nbconvert_exporter": "python",
   "pygments_lexer": "ipython3",
   "version": "3.10.9"
  },
  "orig_nbformat": 4
 },
 "nbformat": 4,
 "nbformat_minor": 2
}
