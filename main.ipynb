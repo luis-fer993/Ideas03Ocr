{
 "cells": [
  {
   "cell_type": "code",
   "execution_count": 4,
   "metadata": {},
   "outputs": [
    {
     "name": "stdout",
     "output_type": "stream",
     "text": [
      "redirect b'U2VjdXJpdHkoUGFzc1dvcmQqMjAyMyop'\n"
     ]
    }
   ],
   "source": [
    "import hashlib\n",
    "import base64\n",
    "\n",
    "var=base64.b64encode('Security(PassWord*2023*)'.encode(encoding = 'UTF-8'))\n",
    "#print(var)\n",
    "#print(base64.b64decode('U2VjdXJpdHlQYXNzV29yZCoyMDIzKg==').decode(encoding='utf-8'))\n",
    "#print(var=='U2VjdXJpdHlQYXNzV29yZCoyMDIzKg=='.encode(encoding='utf-8'))\n",
    "#print(hashlib.md5())\n",
    "password='SecurityPassWord*2023*'\n",
    "passwordCheck= 'U2VjdXJpdHlQYXNzV29yZCoyMDIzKg=='.encode(encoding='utf-8')\n",
    "if  'us'=='us'or base64.b64encode(password.encode(encoding = 'UTF-8')) == passwordCheck:\n",
    "    print('redirect',var)\n",
    "else:\n",
    "    print(\"ok\")\n",
    "\n",
    "#print(base64.b64encode('SecurityPassWord*2023*'.encode(encoding = 'UTF-8'))=='U2VjdXJpdHlQYXNzV29yZCoyMDIzKg=='.encode(encoding='utf-8'))"
   ]
  },
  {
   "cell_type": "code",
   "execution_count": 1,
   "metadata": {},
   "outputs": [
    {
     "name": "stdout",
     "output_type": "stream",
     "text": [
      "True\n",
      "Aplications b'SecurityPassWord*2023*'\n"
     ]
    }
   ],
   "source": [
    "from dotenv import load_dotenv\n",
    "load_dotenv()\n",
    "import os\n",
    "import base64\n",
    "print('Aplications' == os.getenv('user') and 'SecurityPassWord*2023*' == (base64.b64decode(os.getenv('password').encode())).decode(encoding='utf-8'))\n",
    "print(os.getenv('user'),base64.b64decode(os.getenv('password').encode()))"
   ]
  },
  {
   "cell_type": "code",
   "execution_count": 1,
   "metadata": {},
   "outputs": [
    {
     "name": "stdout",
     "output_type": "stream",
     "text": [
      "Requirement already satisfied: flask in c:\\users\\luis.chaparro\\documents\\coding-py\\ocr\\.venv\\lib\\site-packages (2.3.3)\n",
      "Requirement already satisfied: flask-login in c:\\users\\luis.chaparro\\documents\\coding-py\\ocr\\.venv\\lib\\site-packages (0.6.2)\n",
      "Requirement already satisfied: flask-mysqldb in c:\\users\\luis.chaparro\\documents\\coding-py\\ocr\\.venv\\lib\\site-packages (1.0.1)\n",
      "Collecting flask-WTF\n",
      "  Using cached flask_wtf-1.2.1-py3-none-any.whl (12 kB)\n",
      "Requirement already satisfied: click>=8.1.3 in c:\\users\\luis.chaparro\\documents\\coding-py\\ocr\\.venv\\lib\\site-packages (from flask) (8.1.7)\n",
      "Requirement already satisfied: blinker>=1.6.2 in c:\\users\\luis.chaparro\\documents\\coding-py\\ocr\\.venv\\lib\\site-packages (from flask) (1.6.2)\n",
      "Requirement already satisfied: itsdangerous>=2.1.2 in c:\\users\\luis.chaparro\\documents\\coding-py\\ocr\\.venv\\lib\\site-packages (from flask) (2.1.2)\n",
      "Requirement already satisfied: Werkzeug>=2.3.7 in c:\\users\\luis.chaparro\\documents\\coding-py\\ocr\\.venv\\lib\\site-packages (from flask) (2.3.7)\n",
      "Requirement already satisfied: Jinja2>=3.1.2 in c:\\users\\luis.chaparro\\documents\\coding-py\\ocr\\.venv\\lib\\site-packages (from flask) (3.1.2)\n",
      "Requirement already satisfied: mysqlclient>=1.3.7 in c:\\users\\luis.chaparro\\documents\\coding-py\\ocr\\.venv\\lib\\site-packages (from flask-mysqldb) (2.2.0)\n",
      "Collecting wtforms\n",
      "  Using cached wtforms-3.1.0-py3-none-any.whl (145 kB)\n",
      "Requirement already satisfied: colorama in c:\\users\\luis.chaparro\\documents\\coding-py\\ocr\\.venv\\lib\\site-packages (from click>=8.1.3->flask) (0.4.6)\n",
      "Requirement already satisfied: MarkupSafe>=2.0 in c:\\users\\luis.chaparro\\documents\\coding-py\\ocr\\.venv\\lib\\site-packages (from Jinja2>=3.1.2->flask) (2.1.3)\n",
      "Installing collected packages: wtforms, flask-WTF\n",
      "Successfully installed flask-WTF-1.2.1 wtforms-3.1.0\n"
     ]
    },
    {
     "name": "stderr",
     "output_type": "stream",
     "text": [
      "\n",
      "[notice] A new release of pip available: 22.3.1 -> 23.2.1\n",
      "[notice] To update, run: python.exe -m pip install --upgrade pip\n"
     ]
    }
   ],
   "source": [
    "\n",
    "! pip install flask flask-login flask-mysqldb flask-WTF"
   ]
  },
  {
   "cell_type": "code",
   "execution_count": 2,
   "metadata": {},
   "outputs": [],
   "source": [
    "import cv2\n",
    "import pytesseract\n",
    "import re\n",
    "from PIL import Image\n"
   ]
  },
  {
   "cell_type": "code",
   "execution_count": 3,
   "metadata": {},
   "outputs": [
    {
     "name": "stdout",
     "output_type": "stream",
     "text": [
      "Extracted Code:\n",
      " 104304091\n",
      "\n"
     ]
    }
   ],
   "source": [
    "def preprocess_image(image_path):\n",
    "    # Load the image using OpenCV\n",
    "    image = cv2.imread(image_path)\n",
    "    #image= cv2.resize(image, (800, 500))\n",
    "\n",
    "    # Convert the image to grayscale\n",
    "    #gray_image = cv2.cvtColor(image, cv2.COLOR_BGR2GRAY)\n",
    "\n",
    "    # Apply thresholding to enhance the text\n",
    "    #_, threshold_image = cv2.threshold(gray_image, 0, 255, cv2.THRESH_BINARY + cv2.THRESH_OTSU)\n",
    "    return image#threshold_image\n",
    "\n",
    "\n",
    "def perform_ocr(image):\n",
    "    # Use pytesseract to extract text from the image\n",
    "    extracted_text = pytesseract.image_to_string(image)\n",
    "\n",
    "    return extracted_text\n",
    "\n",
    "# Filter numbers that start with 1 using regular expressions\n",
    "def filter(text):\n",
    "    numbers = re.findall(r'\\b3', text)\n",
    "    return numbers\n",
    "\n",
    "def show_result(image, extracted_text):\n",
    "    # Display the image with the extracted text\n",
    "    #image= cv2.resize(image, (400, 200))\n",
    "    cv2.imshow(\"Image\", image)\n",
    "    #filtered_numbers = filter(extracted_text)\n",
    "    print(\"Extracted Code:\\n\", extracted_text)\n",
    "    cv2.waitKey(0)\n",
    "    cv2.destroyAllWindows()\n",
    "\n",
    "\n",
    "# Replace 'path_to_your_image' with the actual path to your image file\n",
    "image_path = 'img/qrNumbersRotated.png'\n",
    "    \n",
    "    # Preprocess the image\n",
    "preprocessed_image = preprocess_image(image_path)\n",
    "    \n",
    "    # Perform OCR\n",
    "extracted_text = perform_ocr(preprocessed_image)\n",
    "    \n",
    "    # Show the result\n",
    "show_result(preprocessed_image, extracted_text)\n"
   ]
  },
  {
   "cell_type": "code",
   "execution_count": 12,
   "metadata": {},
   "outputs": [
    {
     "name": "stdout",
     "output_type": "stream",
     "text": [
      "104304091\n",
      "\n"
     ]
    },
    {
     "data": {
      "text/plain": [
       "-1"
      ]
     },
     "execution_count": 12,
     "metadata": {},
     "output_type": "execute_result"
    }
   ],
   "source": [
    "# Stack OverFLow example 1\n",
    "import cv2\n",
    "import pytesseract\n",
    "\n",
    "pytesseract.pytesseract.tesseract_cmd = r\"C:\\Users\\luis.chaparro\\AppData\\Local\\Programs\\Tesseract-OCR\\tesseract.exe\"\n",
    "\n",
    "image = cv2.imread('qrNumbersRotated.png', 0)\n",
    "thresh = cv2.threshold(image, 0, 255, cv2.THRESH_BINARY_INV + cv2.THRESH_OTSU)[1]\n",
    "\n",
    "data = pytesseract.image_to_string(thresh, lang='spa',config='--psm 6')\n",
    "print(data)\n",
    "\n",
    "cv2.imshow('thresh', thresh)\n",
    "cv2.waitKey()"
   ]
  },
  {
   "cell_type": "code",
   "execution_count": 6,
   "metadata": {},
   "outputs": [
    {
     "name": "stdout",
     "output_type": "stream",
     "text": [
      " \n",
      "\n"
     ]
    }
   ],
   "source": [
    "import pytesseract\n",
    "from PIL import Image\n",
    "\n",
    "#imageFile = Image.open('im1.jpg')\n",
    "\n",
    "imageFile = cv2.imread('img/'+'images.jpg', 0)\n",
    "image = cv2.threshold(imageFile, 0, 255, cv2.THRESH_BINARY_INV + cv2.THRESH_OTSU)[1]\n",
    "text = pytesseract.image_to_string(image)\n",
    "#osd = pytesseract.image_to_osd(image)\n",
    "print(text,'\\n')"
   ]
  },
  {
   "cell_type": "code",
   "execution_count": 41,
   "metadata": {},
   "outputs": [
    {
     "name": "stdout",
     "output_type": "stream",
     "text": [
      "1\n"
     ]
    }
   ],
   "source": [
    "import sqlite3\n",
    "conn = sqlite3.connect('db/BaseEstudios.db')\n",
    "\n",
    "cursor = conn.cursor()\n",
    "# Define the SQL statement to create a table\n",
    "create_table_sql = '''\n",
    "CREATE TABLE IF NOT EXISTS easyestudios (\n",
    "    idtabla INTEGER PRIMARY KEY,\n",
    "    estudio TEXT,\n",
    "    descripcion TEXT,\n",
    "    idestudio INTEGER\n",
    ");\n",
    "'''\n",
    "\n",
    "q2=\"\"\"\n",
    "SELECT * FROM easyestudios\n",
    "\"\"\"\n",
    "q3=\"\"\"\n",
    "insert into easyestudios (estudio,descripcion,idestudio)\n",
    "values ('EDGE','est2',399)\n",
    "\"\"\"\n",
    "# Execute the SQL statement to create the table\n",
    "cursor.execute(q2)\n",
    "res=cursor.fetchall()\n",
    "print(res[0].index('EDGE'))\n",
    "# Commit the changes to the database\n",
    "conn.commit()\n",
    "\n",
    "\n",
    "# Close the database connect\n"
   ]
  },
  {
   "cell_type": "code",
   "execution_count": 42,
   "metadata": {},
   "outputs": [
    {
     "name": "stdout",
     "output_type": "stream",
     "text": [
      "[(1, 'EDGE', 'Col Edge 1023', 392), (2, 'EDGE', 'est2', 399)]\n"
     ]
    }
   ],
   "source": [
    "#conn.row_factory = sqlite3.Row\n",
    "c = conn.cursor()\n",
    "c.execute('select * from easyestudios')\n",
    "\n",
    "result = c.fetchall()\n",
    "print(result)\n",
    "conn.commit()\n",
    "\n",
    "\n",
    "# Close the database connection\n",
    "conn.close()\n"
   ]
  },
  {
   "cell_type": "code",
   "execution_count": 43,
   "metadata": {},
   "outputs": [
    {
     "name": "stdout",
     "output_type": "stream",
     "text": [
      "[{'idtabla': 1, 'estudio': 'EDGE', 'descripcion': 'Col Edge 1023', 'idestudio': 392}]\n",
      "[{'idtabla': 2, 'estudio': 'EDGE', 'descripcion': 'est2', 'idestudio': 399}]\n"
     ]
    }
   ],
   "source": [
    "\n",
    "def rows_as_dicts(cursor):\n",
    "    columns = [column[0] for column in cursor.description]\n",
    "    for row in cursor.fetchall():\n",
    "        yield dict(zip(columns, row))\n",
    "\n",
    "conn = sqlite3.connect('db/BaseEstudios.db')\n",
    "cursor = conn.cursor()\n",
    "\n",
    "# Execute a SELECT query\n",
    "cursor.execute(\"SELECT * FROM easyestudios\")\n",
    "\n",
    "# Fetch rows as dictionaries using the custom function\n",
    "for row in rows_as_dicts(cursor):\n",
    "    print([row])\n",
    "\n",
    "conn.close()\n"
   ]
  },
  {
   "cell_type": "code",
   "execution_count": 31,
   "metadata": {},
   "outputs": [
    {
     "name": "stdout",
     "output_type": "stream",
     "text": [
      "d655029c9c33691ff8e30b7d3ab95c2a48f1f9c880cd52d2bb9d9ca4bffdc445\n"
     ]
    }
   ],
   "source": [
    "import secrets; print(secrets.token_hex())"
   ]
  }
 ],
 "metadata": {
  "kernelspec": {
   "display_name": "base",
   "language": "python",
   "name": "python3"
  },
  "language_info": {
   "codemirror_mode": {
    "name": "ipython",
    "version": 3
   },
   "file_extension": ".py",
   "mimetype": "text/x-python",
   "name": "python",
   "nbconvert_exporter": "python",
   "pygments_lexer": "ipython3",
   "version": "3.10.9"
  },
  "orig_nbformat": 4
 },
 "nbformat": 4,
 "nbformat_minor": 2
}
