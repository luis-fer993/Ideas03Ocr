{
 "cells": [
  {
   "cell_type": "markdown",
   "metadata": {},
   "source": [
    "Pasos para optimizacion de procesos\n",
    "\n",
    "- Acceso a datos y manipulacion de los datos \n",
    "  - Lectura de archivo original \n",
    "  - Busqueda de datos segun criterios en filas y columnas \n",
    "  - Filtro con las columnas necesitadas \n",
    "- Creacion de rango de consulta en columnas \n",
    "- Lectura de numeros mediante el uso de OCR y reconocimiento de imagenes\n",
    "  - Mediante el uso de librerias de reconocimiento de imagenes se extrae el texto \n",
    "  - Se crea una seleccion especifica en el area especificada de la imagen\n",
    "    - se manipula la imagen seleccionando el area especifica de texto o numero \n",
    "  - se extrae el texto o se digita manualmente  \n",
    "- Consulta a base de datos con los datos obtenidos \n",
    "  - Se establece una conexxion a base de datos con los parametros establecidos\n",
    "  - Utillizando la informacion obtenida se realiza la consulta y se obtienen los datos devueltos \n",
    "- Creacion de DataFrame de acuerdo a las condiciones establecidas\n",
    "  - se realiza un modelo que reune:\n",
    "    - la informacion original, ubicada en el orden respectivo de columnas\n",
    "    - se establece la informacion en las coluymnas requeridas de acuerdo a los datos obtenidos en la base de datos \n",
    "    - se pone la debida informacion de acuerdo a las condiciones dadas."
   ]
  },
  {
   "cell_type": "code",
   "execution_count": 1,
   "metadata": {},
   "outputs": [],
   "source": [
    "#! pip remove mysql-connector-python\n",
    "\n",
    "#! pip freeze > requirements.txt\n",
    "# ! pip install -r requirements.txt\n",
    "#! pip install flask_mysqldb"
   ]
  },
  {
   "cell_type": "code",
   "execution_count": 2,
   "metadata": {},
   "outputs": [
    {
     "data": {
      "text/plain": [
       "0       https://shortextraction.grupomeiko.io/20230630...\n",
       "1       https://shortextraction.grupomeiko.io/20230630...\n",
       "2       https://shortextraction.grupomeiko.io/20230630...\n",
       "3       https://shortextraction.grupomeiko.io/20230630...\n",
       "4       https://shortextraction.grupomeiko.io/20230630...\n",
       "                              ...                        \n",
       "6178    https://shortextraction.grupomeiko.io/20230403...\n",
       "6179    https://shortextraction.grupomeiko.io/20230403...\n",
       "6180    https://shortextraction.grupomeiko.io/20230403...\n",
       "6181    https://shortextraction.grupomeiko.io/20230403...\n",
       "6182    https://shortextraction.grupomeiko.io/20230404...\n",
       "Name: FotoStickerFemsa, Length: 6183, dtype: object"
      ]
     },
     "execution_count": 2,
     "metadata": {},
     "output_type": "execute_result"
    }
   ],
   "source": [
    "import numpy as np\n",
    "import pandas as pd\n",
    "import requests\n",
    "import os\n",
    "\n",
    "csvFile = pd.read_csv('mt1.csv')\n",
    "\n",
    "csvFile[['FotoStickerFemsa','CodifoclienteKof_Mex','Tiene match?']].head()\n",
    "csvFile[['FotoStickerFemsa'][0]]"
   ]
  },
  {
   "cell_type": "code",
   "execution_count": 25,
   "metadata": {},
   "outputs": [
    {
     "name": "stdout",
     "output_type": "stream",
     "text": [
      "[{'Place_id': '74b9c3d7c1d9b0045b7535de2531c8a7', 'Ciclo': '423', 'idRegistroEncuesta': 6351985, 'idEstablecimiento': 880817, 'NombreEstablecimiento': 'la cantina', 'Direccion': 'TULTITLAN.25.1.3.E', 'FotoStickerFemsa': 'https://shortextraction.grupomeiko.io/20230403/624_2936888_FotoStickerFemsa.jpg', 'Imagen': nan, 'CodifoclienteKof_Mex': nan, 'Tiene match?': nan, 'IdEstablecimeinto Matcheado': nan, 'Unnamed: 11': nan}, {'Place_id': 'b717c02fa1baa9cda67399598f4fc124', 'Ciclo': '423', 'idRegistroEncuesta': 6350671, 'idEstablecimiento': 880748, 'NombreEstablecimiento': 'Abarrotes beto', 'Direccion': 'CIUDAD DE MEXICO.9.3.2.F', 'FotoStickerFemsa': 'https://shortextraction.grupomeiko.io/20230404/624_2925679_FotoStickerFemsa.jpg', 'Imagen': nan, 'CodifoclienteKof_Mex': 'No aplica', 'Tiene match?': 'No aplica', 'IdEstablecimeinto Matcheado': 'No aplica', 'Unnamed: 11': nan}]\n",
      "[{'Ciclo': '423',\n",
      "  'CodifoclienteKof_Mex': nan,\n",
      "  'Direccion': 'TULTITLAN.25.1.3.E',\n",
      "  'FotoStickerFemsa': 'https://shortextraction.grupomeiko.io/20230403/624_2936888_FotoStickerFemsa.jpg',\n",
      "  'IdEstablecimeinto Matcheado': nan,\n",
      "  'Imagen': nan,\n",
      "  'NombreEstablecimiento': 'la cantina',\n",
      "  'Place_id': '74b9c3d7c1d9b0045b7535de2531c8a7',\n",
      "  'Tiene match?': nan,\n",
      "  'Unnamed: 11': nan,\n",
      "  'idEstablecimiento': 880817,\n",
      "  'idRegistroEncuesta': 6351985},\n",
      " {'Ciclo': '423',\n",
      "  'CodifoclienteKof_Mex': 'No aplica',\n",
      "  'Direccion': 'CIUDAD DE MEXICO.9.3.2.F',\n",
      "  'FotoStickerFemsa': 'https://shortextraction.grupomeiko.io/20230404/624_2925679_FotoStickerFemsa.jpg',\n",
      "  'IdEstablecimeinto Matcheado': 'No aplica',\n",
      "  'Imagen': nan,\n",
      "  'NombreEstablecimiento': 'Abarrotes beto',\n",
      "  'Place_id': 'b717c02fa1baa9cda67399598f4fc124',\n",
      "  'Tiene match?': 'No aplica',\n",
      "  'Unnamed: 11': nan,\n",
      "  'idEstablecimiento': 880748,\n",
      "  'idRegistroEncuesta': 6350671}]\n"
     ]
    }
   ],
   "source": [
    "import pprint\n",
    "f1=csvFile.tail(5)\n",
    "f2=csvFile.tail(2)\n",
    "f1=f1.to_numpy()\n",
    "\n",
    "f2=f2.to_dict(orient='records')\n",
    "\n",
    "print(f2)\n",
    "\n",
    "pprint.pprint(f2)\n",
    "\n",
    "#for item in f1:\n",
    "#    for val in item:\n",
    "#        print(val)\n",
    "#    \n",
    "#    print('\\n')"
   ]
  },
  {
   "cell_type": "code",
   "execution_count": 4,
   "metadata": {},
   "outputs": [
    {
     "name": "stdout",
     "output_type": "stream",
     "text": [
      "                           Place_id   Ciclo  idRegistroEncuesta  \\\n",
      "0  e6a76b04bf2491c7b29d07abd4ff7af8     623             6865944   \n",
      "1  1398082a5e7548eeeecd1f2353aadce8     623             6865940   \n",
      "2  3ff1065da3fdd1b2cd827e2727b2f3ef     623             6865833   \n",
      "3  ba2559ced84fb382e31cd189d03c495c     623             6865832   \n",
      "4  6db38c59aa36597f98125afc76cbf822  subido             6865829   \n",
      "\n",
      "   idEstablecimiento    NombreEstablecimiento               Direccion  \\\n",
      "0             980606   mivelanea la escondida        ZUMPANGO.46.1.1.   \n",
      "1             980602  Abarrotes Rosales Rojas        ZUMPANGO.46.1.1.   \n",
      "2             980598    antobitog msry y meme  NEZAHUALCOYOTL.1.4.3.B   \n",
      "3             980597           alitad y beear  NEZAHUALCOYOTL.1.4.3.A   \n",
      "4             928076              el progreso    CHIMALHUACAN.1.3.6.A   \n",
      "\n",
      "                                    FotoStickerFemsa  Imagen  \\\n",
      "0  https://shortextraction.grupomeiko.io/20230630...     NaN   \n",
      "1  https://shortextraction.grupomeiko.io/20230630...     NaN   \n",
      "2  https://shortextraction.grupomeiko.io/20230630...     NaN   \n",
      "3  https://shortextraction.grupomeiko.io/20230630...     NaN   \n",
      "4  https://shortextraction.grupomeiko.io/20230630...     NaN   \n",
      "\n",
      "  CodifoclienteKof_Mex                      Tiene match?  \\\n",
      "0            No aplica                         No aplica   \n",
      "1            No aplica                         No aplica   \n",
      "2            No aplica                         No aplica   \n",
      "3            No aplica                         No aplica   \n",
      "4            105311121  SI , idestablecimiento Diferente   \n",
      "\n",
      "  IdEstablecimeinto Matcheado Unnamed: 11  \n",
      "0                   No aplica   NO aplica  \n",
      "1                   No aplica   NO aplica  \n",
      "2                   No aplica   NO aplica  \n",
      "3                   No aplica   NO aplica  \n",
      "4                      759394     ajustar  \n"
     ]
    }
   ],
   "source": [
    "\n",
    "#csvFile.info()# show info type data frame\n",
    "\n",
    "#type(csvFile.columns)\n",
    "\n",
    "data=csvFile.head()\n",
    "\n",
    "print(data)"
   ]
  },
  {
   "cell_type": "code",
   "execution_count": 5,
   "metadata": {},
   "outputs": [
    {
     "name": "stdout",
     "output_type": "stream",
     "text": [
      "<class 'pandas.core.frame.DataFrame'>\n",
      "Index: 5 entries, 978 to 983\n",
      "Data columns (total 3 columns):\n",
      " #   Column                Non-Null Count  Dtype \n",
      "---  ------                --------------  ----- \n",
      " 0   idEstablecimiento     5 non-null      int64 \n",
      " 1   FotoStickerFemsa      5 non-null      object\n",
      " 2   CodifoclienteKof_Mex  0 non-null      object\n",
      "dtypes: int64(1), object(2)\n",
      "memory usage: 160.0+ bytes\n",
      "https://shortextraction.grupomeiko.io/20230626/626_3596995_FotoStickerFemsa.jpg\n",
      "True\n"
     ]
    }
   ],
   "source": [
    "#filter just empy fields in 'CodifoclienteKof_Mex'\n",
    "data1=csvFile.loc[csvFile['CodifoclienteKof_Mex'].notna()==False,['idEstablecimiento','FotoStickerFemsa','CodifoclienteKof_Mex']].head(5) #obtenenemos las filas que no tienen Codigo Aun\n",
    "\n",
    "#print the selected colums and description\n",
    "data1.info()\n",
    "print(data1.values[0][1])\n",
    "print(data1.values[0][1]=='https://shortextraction.grupomeiko.io/20230626/626_3596995_FotoStickerFemsa.jpg')\n",
    "#csvFile[['FotoStickerFemsa']].head(5) #obtenenemos las filas que no tienen Codigo Aun"
   ]
  },
  {
   "cell_type": "code",
   "execution_count": 14,
   "metadata": {},
   "outputs": [
    {
     "ename": "KeyError",
     "evalue": "\"None of [Index(['estudio'], dtype='object')] are in the [index]\"",
     "output_type": "error",
     "traceback": [
      "\u001b[1;31m---------------------------------------------------------------------------\u001b[0m",
      "\u001b[1;31mKeyError\u001b[0m                                  Traceback (most recent call last)",
      "\u001b[1;32mc:\\Users\\luis.chaparro\\Documents\\coding-py\\ocr\\pdtableconn.ipynb Cell 7\u001b[0m line \u001b[0;36m1\n\u001b[0;32m      <a href='vscode-notebook-cell:/c%3A/Users/luis.chaparro/Documents/coding-py/ocr/pdtableconn.ipynb#X14sZmlsZQ%3D%3D?line=8'>9</a>\u001b[0m dataList[\u001b[39m'\u001b[39m\u001b[39midestudio\u001b[39m\u001b[39m'\u001b[39m]\u001b[39m=\u001b[39m\u001b[39mint\u001b[39m(\u001b[39m555\u001b[39m)\n\u001b[0;32m     <a href='vscode-notebook-cell:/c%3A/Users/luis.chaparro/Documents/coding-py/ocr/pdtableconn.ipynb#X14sZmlsZQ%3D%3D?line=10'>11</a>\u001b[0m idEspecifico\u001b[39m=\u001b[39mnewEdit\u001b[39m.\u001b[39mloc[newEdit[\u001b[39m'\u001b[39m\u001b[39midtabla\u001b[39m\u001b[39m'\u001b[39m]\u001b[39m==\u001b[39mdataList[\u001b[39m'\u001b[39m\u001b[39midtabla\u001b[39m\u001b[39m'\u001b[39m]]\n\u001b[1;32m---> <a href='vscode-notebook-cell:/c%3A/Users/luis.chaparro/Documents/coding-py/ocr/pdtableconn.ipynb#X14sZmlsZQ%3D%3D?line=11'>12</a>\u001b[0m idEspecifico\u001b[39m.\u001b[39;49mloc[[\u001b[39m'\u001b[39;49m\u001b[39mestudio\u001b[39;49m\u001b[39m'\u001b[39;49m]]\u001b[39m=\u001b[39mdataList[\u001b[39m'\u001b[39m\u001b[39mestudio\u001b[39m\u001b[39m'\u001b[39m]\n\u001b[0;32m     <a href='vscode-notebook-cell:/c%3A/Users/luis.chaparro/Documents/coding-py/ocr/pdtableconn.ipynb#X14sZmlsZQ%3D%3D?line=12'>13</a>\u001b[0m idEspecifico\u001b[39m.\u001b[39mloc[[\u001b[39m'\u001b[39m\u001b[39mdescripcion\u001b[39m\u001b[39m'\u001b[39m]]\u001b[39m=\u001b[39mdataList[\u001b[39m'\u001b[39m\u001b[39mdescripcion\u001b[39m\u001b[39m'\u001b[39m]\n\u001b[0;32m     <a href='vscode-notebook-cell:/c%3A/Users/luis.chaparro/Documents/coding-py/ocr/pdtableconn.ipynb#X14sZmlsZQ%3D%3D?line=13'>14</a>\u001b[0m idEspecifico\u001b[39m.\u001b[39mloc[[\u001b[39m'\u001b[39m\u001b[39midestudio\u001b[39m\u001b[39m'\u001b[39m]]\u001b[39m=\u001b[39mdataList[\u001b[39m'\u001b[39m\u001b[39midestudio\u001b[39m\u001b[39m'\u001b[39m]\n",
      "File \u001b[1;32mc:\\Users\\luis.chaparro\\Documents\\coding-py\\ocr\\.venv\\lib\\site-packages\\pandas\\core\\indexing.py:845\u001b[0m, in \u001b[0;36m_LocationIndexer.__setitem__\u001b[1;34m(self, key, value)\u001b[0m\n\u001b[0;32m    843\u001b[0m \u001b[39melse\u001b[39;00m:\n\u001b[0;32m    844\u001b[0m     key \u001b[39m=\u001b[39m com\u001b[39m.\u001b[39mapply_if_callable(key, \u001b[39mself\u001b[39m\u001b[39m.\u001b[39mobj)\n\u001b[1;32m--> 845\u001b[0m indexer \u001b[39m=\u001b[39m \u001b[39mself\u001b[39;49m\u001b[39m.\u001b[39;49m_get_setitem_indexer(key)\n\u001b[0;32m    846\u001b[0m \u001b[39mself\u001b[39m\u001b[39m.\u001b[39m_has_valid_setitem_indexer(key)\n\u001b[0;32m    848\u001b[0m iloc \u001b[39m=\u001b[39m \u001b[39mself\u001b[39m \u001b[39mif\u001b[39;00m \u001b[39mself\u001b[39m\u001b[39m.\u001b[39mname \u001b[39m==\u001b[39m \u001b[39m\"\u001b[39m\u001b[39miloc\u001b[39m\u001b[39m\"\u001b[39m \u001b[39melse\u001b[39;00m \u001b[39mself\u001b[39m\u001b[39m.\u001b[39mobj\u001b[39m.\u001b[39miloc\n",
      "File \u001b[1;32mc:\\Users\\luis.chaparro\\Documents\\coding-py\\ocr\\.venv\\lib\\site-packages\\pandas\\core\\indexing.py:716\u001b[0m, in \u001b[0;36m_LocationIndexer._get_setitem_indexer\u001b[1;34m(self, key)\u001b[0m\n\u001b[0;32m    712\u001b[0m \u001b[39mif\u001b[39;00m \u001b[39misinstance\u001b[39m(key, \u001b[39mrange\u001b[39m):\n\u001b[0;32m    713\u001b[0m     \u001b[39m# GH#45479 test_loc_setitem_range_key\u001b[39;00m\n\u001b[0;32m    714\u001b[0m     key \u001b[39m=\u001b[39m \u001b[39mlist\u001b[39m(key)\n\u001b[1;32m--> 716\u001b[0m \u001b[39mreturn\u001b[39;00m \u001b[39mself\u001b[39;49m\u001b[39m.\u001b[39;49m_convert_to_indexer(key, axis\u001b[39m=\u001b[39;49m\u001b[39m0\u001b[39;49m)\n",
      "File \u001b[1;32mc:\\Users\\luis.chaparro\\Documents\\coding-py\\ocr\\.venv\\lib\\site-packages\\pandas\\core\\indexing.py:1426\u001b[0m, in \u001b[0;36m_LocIndexer._convert_to_indexer\u001b[1;34m(self, key, axis)\u001b[0m\n\u001b[0;32m   1424\u001b[0m         \u001b[39mreturn\u001b[39;00m key\n\u001b[0;32m   1425\u001b[0m     \u001b[39melse\u001b[39;00m:\n\u001b[1;32m-> 1426\u001b[0m         \u001b[39mreturn\u001b[39;00m \u001b[39mself\u001b[39;49m\u001b[39m.\u001b[39;49m_get_listlike_indexer(key, axis)[\u001b[39m1\u001b[39m]\n\u001b[0;32m   1427\u001b[0m \u001b[39melse\u001b[39;00m:\n\u001b[0;32m   1428\u001b[0m     \u001b[39mtry\u001b[39;00m:\n",
      "File \u001b[1;32mc:\\Users\\luis.chaparro\\Documents\\coding-py\\ocr\\.venv\\lib\\site-packages\\pandas\\core\\indexing.py:1462\u001b[0m, in \u001b[0;36m_LocIndexer._get_listlike_indexer\u001b[1;34m(self, key, axis)\u001b[0m\n\u001b[0;32m   1459\u001b[0m ax \u001b[39m=\u001b[39m \u001b[39mself\u001b[39m\u001b[39m.\u001b[39mobj\u001b[39m.\u001b[39m_get_axis(axis)\n\u001b[0;32m   1460\u001b[0m axis_name \u001b[39m=\u001b[39m \u001b[39mself\u001b[39m\u001b[39m.\u001b[39mobj\u001b[39m.\u001b[39m_get_axis_name(axis)\n\u001b[1;32m-> 1462\u001b[0m keyarr, indexer \u001b[39m=\u001b[39m ax\u001b[39m.\u001b[39;49m_get_indexer_strict(key, axis_name)\n\u001b[0;32m   1464\u001b[0m \u001b[39mreturn\u001b[39;00m keyarr, indexer\n",
      "File \u001b[1;32mc:\\Users\\luis.chaparro\\Documents\\coding-py\\ocr\\.venv\\lib\\site-packages\\pandas\\core\\indexes\\base.py:5877\u001b[0m, in \u001b[0;36mIndex._get_indexer_strict\u001b[1;34m(self, key, axis_name)\u001b[0m\n\u001b[0;32m   5874\u001b[0m \u001b[39melse\u001b[39;00m:\n\u001b[0;32m   5875\u001b[0m     keyarr, indexer, new_indexer \u001b[39m=\u001b[39m \u001b[39mself\u001b[39m\u001b[39m.\u001b[39m_reindex_non_unique(keyarr)\n\u001b[1;32m-> 5877\u001b[0m \u001b[39mself\u001b[39;49m\u001b[39m.\u001b[39;49m_raise_if_missing(keyarr, indexer, axis_name)\n\u001b[0;32m   5879\u001b[0m keyarr \u001b[39m=\u001b[39m \u001b[39mself\u001b[39m\u001b[39m.\u001b[39mtake(indexer)\n\u001b[0;32m   5880\u001b[0m \u001b[39mif\u001b[39;00m \u001b[39misinstance\u001b[39m(key, Index):\n\u001b[0;32m   5881\u001b[0m     \u001b[39m# GH 42790 - Preserve name from an Index\u001b[39;00m\n",
      "File \u001b[1;32mc:\\Users\\luis.chaparro\\Documents\\coding-py\\ocr\\.venv\\lib\\site-packages\\pandas\\core\\indexes\\base.py:5938\u001b[0m, in \u001b[0;36mIndex._raise_if_missing\u001b[1;34m(self, key, indexer, axis_name)\u001b[0m\n\u001b[0;32m   5936\u001b[0m     \u001b[39mif\u001b[39;00m use_interval_msg:\n\u001b[0;32m   5937\u001b[0m         key \u001b[39m=\u001b[39m \u001b[39mlist\u001b[39m(key)\n\u001b[1;32m-> 5938\u001b[0m     \u001b[39mraise\u001b[39;00m \u001b[39mKeyError\u001b[39;00m(\u001b[39mf\u001b[39m\u001b[39m\"\u001b[39m\u001b[39mNone of [\u001b[39m\u001b[39m{\u001b[39;00mkey\u001b[39m}\u001b[39;00m\u001b[39m] are in the [\u001b[39m\u001b[39m{\u001b[39;00maxis_name\u001b[39m}\u001b[39;00m\u001b[39m]\u001b[39m\u001b[39m\"\u001b[39m)\n\u001b[0;32m   5940\u001b[0m not_found \u001b[39m=\u001b[39m \u001b[39mlist\u001b[39m(ensure_index(key)[missing_mask\u001b[39m.\u001b[39mnonzero()[\u001b[39m0\u001b[39m]]\u001b[39m.\u001b[39munique())\n\u001b[0;32m   5941\u001b[0m \u001b[39mraise\u001b[39;00m \u001b[39mKeyError\u001b[39;00m(\u001b[39mf\u001b[39m\u001b[39m\"\u001b[39m\u001b[39m{\u001b[39;00mnot_found\u001b[39m}\u001b[39;00m\u001b[39m not in index\u001b[39m\u001b[39m\"\u001b[39m)\n",
      "\u001b[1;31mKeyError\u001b[0m: \"None of [Index(['estudio'], dtype='object')] are in the [index]\""
     ]
    }
   ],
   "source": [
    "from pathlib import Path \n",
    "FilePathBase=Path('db','BaseEstudios.csv')\n",
    "\n",
    "newEdit=pd.read_csv(FilePathBase)\n",
    "dataList={}\n",
    "dataList['idtabla']=int(3)\n",
    "dataList['estudio']='EDGE2'\n",
    "dataList['descripcion']='pruebaaplicativos01'\n",
    "dataList['idestudio']=int(555)\n",
    "\n",
    "idEspecifico=newEdit.loc[newEdit['idtabla']==dataList['idtabla']]\n",
    "idEspecifico.loc[['estudio']]=dataList['estudio']\n",
    "idEspecifico.loc[['descripcion']]=dataList['descripcion']\n",
    "idEspecifico.loc[['idestudio']]=dataList['idestudio']\n",
    "idEspecifico"
   ]
  },
  {
   "cell_type": "code",
   "execution_count": 6,
   "metadata": {},
   "outputs": [
    {
     "name": "stdout",
     "output_type": "stream",
     "text": [
      "Download complete!\n"
     ]
    }
   ],
   "source": [
    "#request to extract a specifi image\n",
    "from PIL import Image\n",
    "from io import BytesIO\n",
    "\n",
    "\n",
    "req = requests.get(data1.values[0][1])\n",
    "if req.status_code==200 :\n",
    "    code=data1.values[0][0]\n",
    "    nameImage=f'Img_{code}.jpg'\n",
    "    path=f'tmp/{nameImage}'\n",
    "    with open (path,'wb') as file:\n",
    "        file.write(req.content)\n",
    "    print('Download complete!')\n",
    "    #i = Image.open(BytesIO(req.content))\n",
    "else: print(f'Error Status Code {req.status_code}')"
   ]
  },
  {
   "cell_type": "code",
   "execution_count": 7,
   "metadata": {},
   "outputs": [
    {
     "name": "stdout",
     "output_type": "stream",
     "text": [
      "<class 'mysql.connector.cursor_cext.CMySQLCursor'>\n",
      "('265', '#I|265#N|170#B|1#C|10', datetime.datetime(2022, 12, 21, 17, 4, 48), 'Inactivo', 'COLOMBIA', '1', 2023, 'EDGE', 'BEBIDAS NO ALCOHOLICAS', 'CATEGORIA', 'LECHE LIQUIDA', '#I|265#N|170#B|1#C|10', 'TASA', 'BARRANQUILLA,BOGOTA,BUCARAMANGA,CALI,CARTAGENA,EJE CAFETERO,IBAGUE,MEDELLIN,NEIVA,SANTA MARTA', 'Autoservicio,Cafeteria,Panaderia,Tienda', 'ALPINA,ALQUERIA', None, '2022/12/21 08:31:31', 'EDGE', None, None)\n",
      "('265', '#I|265#N|170#B|1#C|10#M|0#R|0', datetime.datetime(2022, 12, 21, 17, 4, 48), 'Inactivo', 'COLOMBIA', '1', 2023, 'EDGE', 'BEBIDAS NO ALCOHOLICAS', 'CATEGORIA,FABRICANTE,MARCA', 'LECHE LIQUIDA,OTROS FABRICANTES,OTRAS MARCAS', '#I|265#N|170#B|1#C|10#M|0#R|0', 'CARAS REGULAR,PRESENCIA,PRESENCIA DECLARADA', 'CALI,EJE CAFETERO', 'Autoservicio,Cafeteria,Panaderia,Tienda', 'ALPINA,ALQUERIA', None, '2022/12/21 08:31:31', 'EDGE', None, None)\n",
      "('265', '#I|265#N|170#B|1#C|10#M|0#R|0#A|8_3', datetime.datetime(2022, 12, 21, 17, 4, 48), 'Inactivo', 'COLOMBIA', '1', 2023, 'EDGE', 'BEBIDAS NO ALCOHOLICAS', 'CATEGORIA,FABRICANTE,MARCA,TIPO', 'LECHE LIQUIDA,OTROS FABRICANTES,OTRAS MARCAS,DESLACTOSADA', '#I|265#N|170#B|1#C|10#M|0#R|0#A|8_3', 'PRESENCIA,PRESENCIA DECLARADA', 'BARRANQUILLA,BOGOTA,BUCARAMANGA,CALI,CARTAGENA,EJE CAFETERO,IBAGUE,MEDELLIN,NEIVA,SANTA MARTA', 'Autoservicio,Cafeteria,Panaderia,Tienda', 'ALPINA,ALQUERIA', None, '2022/12/21 08:31:31', 'EDGE', None, None)\n",
      "('265', '#I|265#N|170#B|1#C|10#M|0#R|0#A|8_6', datetime.datetime(2022, 12, 21, 17, 4, 48), 'Inactivo', 'COLOMBIA', '1', 2023, 'EDGE', 'BEBIDAS NO ALCOHOLICAS', 'CATEGORIA,FABRICANTE,MARCA,TIPO', 'LECHE LIQUIDA,OTROS FABRICANTES,OTRAS MARCAS,ENTERA', '#I|265#N|170#B|1#C|10#M|0#R|0#A|8_6', 'PRESENCIA,PRESENCIA DECLARADA', 'BARRANQUILLA,BOGOTA,BUCARAMANGA,CALI,CARTAGENA,EJE CAFETERO,IBAGUE,MEDELLIN,NEIVA,SANTA MARTA', 'Autoservicio,Cafeteria,Panaderia,Tienda', 'ALPINA,ALQUERIA', None, '2022/12/21 08:31:31', 'EDGE', None, None)\n",
      "('265', '#I|265#N|170#B|1#C|10#M|100#R|163', datetime.datetime(2022, 12, 21, 17, 4, 48), 'Inactivo', 'COLOMBIA', '1', 2023, 'EDGE', 'BEBIDAS NO ALCOHOLICAS', 'CATEGORIA,FABRICANTE,MARCA', 'LECHE LIQUIDA,ALIVAL,SAN FERNANDO', '#I|265#N|170#B|1#C|10#M|100#R|163', 'CARAS REGULAR,PRESENCIA,PRESENCIA DECLARADA', 'CALI,EJE CAFETERO', 'Autoservicio,Cafeteria,Panaderia,Tienda', 'ALPINA,ALQUERIA', None, '2022/12/21 08:31:31', 'EDGE', None, None)\n",
      "('265', '#I|265#N|170#B|1#C|10#M|100#R|163#A|8_3#A|4_1#A|2_0', datetime.datetime(2022, 12, 21, 17, 4, 48), 'Inactivo', 'COLOMBIA', '1', 2023, 'EDGE', 'BEBIDAS NO ALCOHOLICAS', 'CATEGORIA,FABRICANTE,MARCA,TIPO,EMPAQUE,CONTENIDO', 'LECHE LIQUIDA,ALIVAL,SAN FERNANDO,DESLACTOSADA,BOLSA,OTRO(A)', '#I|265#N|170#B|1#C|10#M|100#R|163#A|8_3#A|4_1#A|2_0', 'PRESENCIA', 'CALI,EJE CAFETERO', 'Autoservicio,Cafeteria,Panaderia,Tienda', 'ALPINA,ALQUERIA', None, '2022/12/21 08:31:31', 'EDGE', None, None)\n",
      "('265', '#I|265#N|170#B|1#C|10#M|100#R|163#A|8_3#A|4_1#A|2_16', datetime.datetime(2022, 12, 21, 17, 4, 48), 'Inactivo', 'COLOMBIA', '1', 2023, 'EDGE', 'BEBIDAS NO ALCOHOLICAS', 'CATEGORIA,FABRICANTE,MARCA,TIPO,EMPAQUE,CONTENIDO', 'LECHE LIQUIDA,ALIVAL,SAN FERNANDO,DESLACTOSADA,BOLSA,1100 ML', '#I|265#N|170#B|1#C|10#M|100#R|163#A|8_3#A|4_1#A|2_16', 'PRESENCIA,PRESENCIA DECLARADA', 'CALI,EJE CAFETERO', 'Autoservicio,Cafeteria,Panaderia,Tienda', 'ALPINA,ALQUERIA', None, '2022/12/21 08:31:31', 'EDGE', None, None)\n",
      "('265', '#I|265#N|170#B|1#C|10#M|100#R|163#A|8_6#A|4_1#A|2_0', datetime.datetime(2022, 12, 21, 17, 4, 48), 'Inactivo', 'COLOMBIA', '1', 2023, 'EDGE', 'BEBIDAS NO ALCOHOLICAS', 'CATEGORIA,FABRICANTE,MARCA,TIPO,EMPAQUE,CONTENIDO', 'LECHE LIQUIDA,ALIVAL,SAN FERNANDO,ENTERA,BOLSA,OTRO(A)', '#I|265#N|170#B|1#C|10#M|100#R|163#A|8_6#A|4_1#A|2_0', 'PRESENCIA', 'CALI,EJE CAFETERO', 'Autoservicio,Cafeteria,Panaderia,Tienda', 'ALPINA,ALQUERIA', None, '2022/12/21 08:31:31', 'EDGE', None, None)\n",
      "('265', '#I|265#N|170#B|1#C|10#M|100#R|163#A|8_6#A|4_1#A|2_16', datetime.datetime(2022, 12, 21, 17, 4, 48), 'Inactivo', 'COLOMBIA', '1', 2023, 'EDGE', 'BEBIDAS NO ALCOHOLICAS', 'CATEGORIA,FABRICANTE,MARCA,TIPO,EMPAQUE,CONTENIDO', 'LECHE LIQUIDA,ALIVAL,SAN FERNANDO,ENTERA,BOLSA,1100 ML', '#I|265#N|170#B|1#C|10#M|100#R|163#A|8_6#A|4_1#A|2_16', 'PRESENCIA,PRESENCIA DECLARADA', 'CALI,EJE CAFETERO', 'Autoservicio,Cafeteria,Panaderia,Tienda', 'ALPINA,ALQUERIA', None, '2022/12/21 08:31:31', 'EDGE', None, None)\n",
      "('265', '#I|265#N|170#B|1#C|10#M|116#R|138', datetime.datetime(2022, 12, 21, 17, 4, 48), 'Inactivo', 'COLOMBIA', '1', 2023, 'EDGE', 'BEBIDAS NO ALCOHOLICAS', 'CATEGORIA,FABRICANTE,MARCA', 'LECHE LIQUIDA,ALPINA,ALPINA', '#I|265#N|170#B|1#C|10#M|116#R|138', 'CARAS REGULAR,PRESENCIA,PRESENCIA DECLARADA', 'CALI,EJE CAFETERO', 'Autoservicio,Cafeteria,Panaderia,Tienda', 'ALPINA,ALQUERIA', None, '2022/12/21 08:31:31', 'EDGE', None, None)\n"
     ]
    }
   ],
   "source": [
    "from mysql.connector import connect , Error\n",
    "\n",
    "class DB():\n",
    "    def __init__(self):\n",
    "        self.host='meiko-prod.cmebrzxfmsvx.us-east-2.rds.amazonaws.com'\n",
    "        self.user='support_data'\n",
    "        self.password='puHnBWtMOzQzHarQMhnmhooy'\n",
    "        self.port=3306\n",
    "        \n",
    "        \n",
    "    def _newQuery(self, query):\n",
    "        try:\n",
    "            with connect(\n",
    "                host= self.host,\n",
    "                user= self.user,\n",
    "                password=self.password,\n",
    "                #self.port\n",
    "            ) as connection:\n",
    "                with connection.cursor() as cursor:\n",
    "                    return cursor.execute(query)\n",
    "        except Error as e:\n",
    "            return f'An Error ocurred {e}'\n",
    "        \n",
    "        \n",
    "import mysql.connector\n",
    "\n",
    "config = {\n",
    "  'user': 'support_data',\n",
    "  'password': 'puHnBWtMOzQzHarQMhnmhooy',\n",
    "  'host': 'meiko-prod.cmebrzxfmsvx.us-east-2.rds.amazonaws.com',\n",
    "  'database': 'jobOrder',\n",
    "  'port':3306,\n",
    "  'raise_on_warnings': True\n",
    "}\n",
    "\n",
    "cnx = mysql.connector.connect(**config)\n",
    "query = (\"SELECT * FROM jobOrder.sp_mega_job_nf WHERE anio =2023 LIMIT 10\")\n",
    "cursor=cnx.cursor()\n",
    "cursor.execute(query)\n",
    "\n",
    "print(type(cursor))\n",
    "for row in cursor:\n",
    "    print(row)\n",
    "\n",
    "cursor.close()\n",
    "cnx.close()\n",
    "        \n",
    "\n",
    "#newq=DB()  \n",
    "#print(newq._newQuery('SELECT * FROM jobOrder.sp_mega_job_nf'))"
   ]
  },
  {
   "cell_type": "code",
   "execution_count": 8,
   "metadata": {},
   "outputs": [
    {
     "ename": "NameError",
     "evalue": "name 'status' is not defined",
     "output_type": "error",
     "traceback": [
      "\u001b[1;31m---------------------------------------------------------------------------\u001b[0m",
      "\u001b[1;31mNameError\u001b[0m                                 Traceback (most recent call last)",
      "\u001b[1;32mc:\\Users\\luis.chaparro\\Documents\\coding-py\\ocr\\pdtableconn.ipynb Cell 9\u001b[0m line \u001b[0;36m2\n\u001b[0;32m      <a href='vscode-notebook-cell:/c%3A/Users/luis.chaparro/Documents/coding-py/ocr/pdtableconn.ipynb#X11sZmlsZQ%3D%3D?line=4'>5</a>\u001b[0m config \u001b[39m=\u001b[39m {\n\u001b[0;32m      <a href='vscode-notebook-cell:/c%3A/Users/luis.chaparro/Documents/coding-py/ocr/pdtableconn.ipynb#X11sZmlsZQ%3D%3D?line=5'>6</a>\u001b[0m   \u001b[39m'\u001b[39m\u001b[39muser\u001b[39m\u001b[39m'\u001b[39m: \u001b[39m'\u001b[39m\u001b[39msupport_data\u001b[39m\u001b[39m'\u001b[39m,\n\u001b[0;32m      <a href='vscode-notebook-cell:/c%3A/Users/luis.chaparro/Documents/coding-py/ocr/pdtableconn.ipynb#X11sZmlsZQ%3D%3D?line=6'>7</a>\u001b[0m   \u001b[39m'\u001b[39m\u001b[39mpassword\u001b[39m\u001b[39m'\u001b[39m: \u001b[39m'\u001b[39m\u001b[39mpuHnBWtMOzQzHarQMhnmhooy\u001b[39m\u001b[39m'\u001b[39m,\n\u001b[1;32m   (...)\u001b[0m\n\u001b[0;32m     <a href='vscode-notebook-cell:/c%3A/Users/luis.chaparro/Documents/coding-py/ocr/pdtableconn.ipynb#X11sZmlsZQ%3D%3D?line=10'>11</a>\u001b[0m   \u001b[39m'\u001b[39m\u001b[39mraise_on_warnings\u001b[39m\u001b[39m'\u001b[39m: \u001b[39mTrue\u001b[39;00m\n\u001b[0;32m     <a href='vscode-notebook-cell:/c%3A/Users/luis.chaparro/Documents/coding-py/ocr/pdtableconn.ipynb#X11sZmlsZQ%3D%3D?line=11'>12</a>\u001b[0m }\n\u001b[0;32m     <a href='vscode-notebook-cell:/c%3A/Users/luis.chaparro/Documents/coding-py/ocr/pdtableconn.ipynb#X11sZmlsZQ%3D%3D?line=13'>14</a>\u001b[0m cnx \u001b[39m=\u001b[39m mysql\u001b[39m.\u001b[39mconnector\u001b[39m.\u001b[39mconnect(\u001b[39m*\u001b[39m\u001b[39m*\u001b[39mconfig)\n\u001b[0;32m     <a href='vscode-notebook-cell:/c%3A/Users/luis.chaparro/Documents/coding-py/ocr/pdtableconn.ipynb#X11sZmlsZQ%3D%3D?line=15'>16</a>\u001b[0m querySpMegaJob \u001b[39m=\u001b[39m (\u001b[39mf\u001b[39m\u001b[39m\"\"\"\u001b[39m\u001b[39mSELECT\u001b[39m\n\u001b[0;32m     <a href='vscode-notebook-cell:/c%3A/Users/luis.chaparro/Documents/coding-py/ocr/pdtableconn.ipynb#X11sZmlsZQ%3D%3D?line=16'>17</a>\u001b[0m \u001b[39m\tDISTINCT llave_job AS HASHMGJ, ll.tipos_medicion \u001b[39m\n\u001b[0;32m     <a href='vscode-notebook-cell:/c%3A/Users/luis.chaparro/Documents/coding-py/ocr/pdtableconn.ipynb#X11sZmlsZQ%3D%3D?line=17'>18</a>\u001b[0m \u001b[39mFROM\u001b[39m\n\u001b[0;32m     <a href='vscode-notebook-cell:/c%3A/Users/luis.chaparro/Documents/coding-py/ocr/pdtableconn.ipynb#X11sZmlsZQ%3D%3D?line=18'>19</a>\u001b[0m \u001b[39m\tjobOrder.sp_mega_job_nf ll\u001b[39m\n\u001b[0;32m     <a href='vscode-notebook-cell:/c%3A/Users/luis.chaparro/Documents/coding-py/ocr/pdtableconn.ipynb#X11sZmlsZQ%3D%3D?line=19'>20</a>\u001b[0m \u001b[39mWHERE\u001b[39m\n\u001b[1;32m---> <a href='vscode-notebook-cell:/c%3A/Users/luis.chaparro/Documents/coding-py/ocr/pdtableconn.ipynb#X11sZmlsZQ%3D%3D?line=20'>21</a>\u001b[0m \u001b[39m\testado_job = \u001b[39m\u001b[39m'\u001b[39m\u001b[39m{\u001b[39;00mstatus\u001b[39m}\u001b[39;00m\u001b[39m'\u001b[39m\n\u001b[0;32m     <a href='vscode-notebook-cell:/c%3A/Users/luis.chaparro/Documents/coding-py/ocr/pdtableconn.ipynb#X11sZmlsZQ%3D%3D?line=21'>22</a>\u001b[0m \u001b[39m\tAND ciclo = \u001b[39m\u001b[39m'\u001b[39m\u001b[39m{\u001b[39;00mcycle\u001b[39m}\u001b[39;00m\u001b[39m'\u001b[39m\n\u001b[0;32m     <a href='vscode-notebook-cell:/c%3A/Users/luis.chaparro/Documents/coding-py/ocr/pdtableconn.ipynb#X11sZmlsZQ%3D%3D?line=22'>23</a>\u001b[0m \u001b[39m\tAND anio = \u001b[39m\u001b[39m'\u001b[39m\u001b[39m{\u001b[39;00manio\u001b[39m}\u001b[39;00m\u001b[39m'\u001b[39m\n\u001b[0;32m     <a href='vscode-notebook-cell:/c%3A/Users/luis.chaparro/Documents/coding-py/ocr/pdtableconn.ipynb#X11sZmlsZQ%3D%3D?line=23'>24</a>\u001b[0m \u001b[39m\tAND pais = \u001b[39m\u001b[39m'\u001b[39m\u001b[39m{\u001b[39;00mcountry\u001b[39m}\u001b[39;00m\u001b[39m'\u001b[39m\n\u001b[0;32m     <a href='vscode-notebook-cell:/c%3A/Users/luis.chaparro/Documents/coding-py/ocr/pdtableconn.ipynb#X11sZmlsZQ%3D%3D?line=24'>25</a>\u001b[0m \u001b[39m\tAND estudio  = \u001b[39m\u001b[39m'\u001b[39m\u001b[39m{\u001b[39;00mstudy\u001b[39m}\u001b[39;00m\u001b[39m'\u001b[39m\n\u001b[0;32m     <a href='vscode-notebook-cell:/c%3A/Users/luis.chaparro/Documents/coding-py/ocr/pdtableconn.ipynb#X11sZmlsZQ%3D%3D?line=25'>26</a>\u001b[0m \u001b[39m\tAND tipos_medicion LIKE \u001b[39m\u001b[39m'\u001b[39m\u001b[39m%%\u001b[39m\u001b[39m'\u001b[39m\n\u001b[0;32m     <a href='vscode-notebook-cell:/c%3A/Users/luis.chaparro/Documents/coding-py/ocr/pdtableconn.ipynb#X11sZmlsZQ%3D%3D?line=26'>27</a>\u001b[0m \u001b[39m\tAND empresas LIKE \u001b[39m\u001b[39m'\u001b[39m\u001b[39m%\u001b[39m\u001b[39m{\u001b[39;00mcompany\u001b[39m}\u001b[39;00m\u001b[39m%\u001b[39m\u001b[39m'\u001b[39m\u001b[39m;\u001b[39m\u001b[39m\"\"\"\u001b[39m)\n\u001b[0;32m     <a href='vscode-notebook-cell:/c%3A/Users/luis.chaparro/Documents/coding-py/ocr/pdtableconn.ipynb#X11sZmlsZQ%3D%3D?line=27'>28</a>\u001b[0m cursor\u001b[39m=\u001b[39mcnx\u001b[39m.\u001b[39mcursor()\n\u001b[0;32m     <a href='vscode-notebook-cell:/c%3A/Users/luis.chaparro/Documents/coding-py/ocr/pdtableconn.ipynb#X11sZmlsZQ%3D%3D?line=28'>29</a>\u001b[0m cursor\u001b[39m.\u001b[39mexecute(querySpMegaJob)\n",
      "\u001b[1;31mNameError\u001b[0m: name 'status' is not defined"
     ]
    }
   ],
   "source": [
    "################ MApeo de datos Hash verification\n",
    "import mysql.connector\n",
    "import pprint\n",
    "\n",
    "config = {\n",
    "  'user': 'support_data',\n",
    "  'password': 'puHnBWtMOzQzHarQMhnmhooy',\n",
    "  'host': 'meiko-prod.cmebrzxfmsvx.us-east-2.rds.amazonaws.com',\n",
    "  'database': 'jobOrder',\n",
    "  'port':3306,\n",
    "  'raise_on_warnings': True\n",
    "}\n",
    "\n",
    "cnx = mysql.connector.connect(**config)\n",
    "\n",
    "querySpMegaJob = (f\"\"\"SELECT\n",
    "\tDISTINCT llave_job AS HASHMGJ, ll.tipos_medicion \n",
    "FROM\n",
    "\tjobOrder.sp_mega_job_nf ll\n",
    "WHERE\n",
    "\testado_job = '{status}'\n",
    "\tAND ciclo = '{cycle}'\n",
    "\tAND anio = '{anio}'\n",
    "\tAND pais = '{country}'\n",
    "\tAND estudio  = '{study}'\n",
    "\tAND tipos_medicion LIKE '%%'\n",
    "\tAND empresas LIKE '%{company}%';\"\"\")\n",
    "cursor=cnx.cursor()\n",
    "cursor.execute(querySpMegaJob)\n",
    "result=cursor.fetchall()\n",
    "print(type(result))\n",
    "newdict={}\n",
    "for row in result:\n",
    "    typesMed=str(row[1]).split(',')\n",
    "    for meditionType in typesMed:\n",
    "        #print(meditionType)\n",
    "        if not meditionType in newdict.keys():\n",
    "            newdict[meditionType]=[]\n",
    "        \n",
    "        if meditionType in row[1]:\n",
    "          newdict[meditionType]=newdict[meditionType]+[row[0]]\n",
    "  \n",
    "queryViewMapeoDatos=\"\"\"\n",
    "\n",
    "\"\"\"  \n",
    "#c=1          \n",
    "#for i in newdict:\n",
    "#  print(i[c],'\\n')\n",
    "#  c+=1            \n",
    "\n",
    "#print(newdict)\n",
    "\n",
    "pprint.pprint(newdict)\n",
    "\n",
    "# Sets 'pretty_dict_str' to the formatted string value\n",
    "#pretty_dict_str = pprint.pformat(newdict)\n",
    "\n",
    "cursor.close()\n",
    "cnx.close()\n",
    "\n",
    "\n",
    "#newq=DB()  \n",
    "#print(newq._newQuery('SELECT * FROM jobOrder.sp_mega_job_nf'))\n"
   ]
  },
  {
   "cell_type": "code",
   "execution_count": 3,
   "metadata": {},
   "outputs": [
    {
     "name": "stdout",
     "output_type": "stream",
     "text": [
      "[{'id_ciclo': 1, 'valor': '1'},\n",
      " {'id_ciclo': 2, 'valor': '2'},\n",
      " {'id_ciclo': 3, 'valor': '3'},\n",
      " {'id_ciclo': 4, 'valor': '4'},\n",
      " {'id_ciclo': 5, 'valor': '5'},\n",
      " {'id_ciclo': 6, 'valor': '6'},\n",
      " {'id_ciclo': 7, 'valor': 'M1'},\n",
      " {'id_ciclo': 8, 'valor': 'M2'},\n",
      " {'id_ciclo': 9, 'valor': 'M3'},\n",
      " {'id_ciclo': 10, 'valor': 'M4'},\n",
      " {'id_ciclo': 11, 'valor': 'M5'},\n",
      " {'id_ciclo': 12, 'valor': 'M6'},\n",
      " {'id_ciclo': 13, 'valor': '7'},\n",
      " {'id_ciclo': 14, 'valor': '8'},\n",
      " {'id_ciclo': 15, 'valor': '9'},\n",
      " {'id_ciclo': 16, 'valor': '10'},\n",
      " {'id_ciclo': 17, 'valor': '11'},\n",
      " {'id_ciclo': 18, 'valor': '12'},\n",
      " {'id_ciclo': 19, 'valor': 'M7'},\n",
      " {'id_ciclo': 20, 'valor': 'M8'},\n",
      " {'id_ciclo': 21, 'valor': 'M9'},\n",
      " {'id_ciclo': 22, 'valor': 'M10'},\n",
      " {'id_ciclo': 23, 'valor': 'M11'},\n",
      " {'id_ciclo': 24, 'valor': 'M12'},\n",
      " {'id_ciclo': 25, 'valor': 'M13'},\n",
      " {'id_ciclo': 26, 'valor': 'M14'},\n",
      " {'id_ciclo': 27, 'valor': 'M15'},\n",
      " {'id_ciclo': 28, 'valor': 'M16'},\n",
      " {'id_ciclo': 29, 'valor': 'M17'},\n",
      " {'id_ciclo': 30, 'valor': 'M18'},\n",
      " {'id_ciclo': 31, 'valor': 'M20'},\n",
      " {'id_ciclo': 32, 'valor': 'M21'},\n",
      " {'id_ciclo': 33, 'valor': 'M22'},\n",
      " {'id_ciclo': 34, 'valor': 'M23'},\n",
      " {'id_ciclo': 35, 'valor': 'M24'}]\n"
     ]
    }
   ],
   "source": [
    "from main import DB\n",
    "import pprint\n",
    "\n",
    "conn1=DB()\n",
    "\n",
    "ctxhash={}\n",
    "ctxhash['countries']='''select * from geomaster.paises;'''\n",
    "ctxhash['cycles']='''select * from jobOrder.ciclos;'''\n",
    "ctxhash['studies']='''select * from jobOrder.estudios;'''\n",
    "ctxhash['clients']='''select * from jobOrder.clientes; '''\n",
    "ctxhash['meditionTypes']='''SELECT\tDISTINCT tipos_medicion FROM jobOrder.sp_mega_job_nf; '''\n",
    "for val in ctxhash:\n",
    "    v1=ctxhash[val]\n",
    "    ctxhash[val]=conn1._newQuerySelect(v1)\n",
    "\n",
    "pprint.pprint(ctxhash['cycles'])"
   ]
  }
 ],
 "metadata": {
  "kernelspec": {
   "display_name": ".venv",
   "language": "python",
   "name": "python3"
  },
  "language_info": {
   "codemirror_mode": {
    "name": "ipython",
    "version": 3
   },
   "file_extension": ".py",
   "mimetype": "text/x-python",
   "name": "python",
   "nbconvert_exporter": "python",
   "pygments_lexer": "ipython3",
   "version": "3.10.9"
  },
  "orig_nbformat": 4
 },
 "nbformat": 4,
 "nbformat_minor": 2
}
