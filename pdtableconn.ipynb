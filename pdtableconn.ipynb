{
 "cells": [
  {
   "cell_type": "markdown",
   "metadata": {},
   "source": [
    "Pasos para optimizacion de procesos\n",
    "\n",
    "- Acceso a datos y manipulacion de los datos \n",
    "  - Lectura de archivo original \n",
    "  - Busqueda de datos segun criterios en filas y columnas \n",
    "  - Filtro con las columnas necesitadas \n",
    "- Creacion de rango de consulta en columnas \n",
    "- Lectura de numeros mediante el uso de OCR y reconocimiento de imagenes\n",
    "  - Mediante el uso de librerias de reconocimiento de imagenes se extrae el texto \n",
    "  - Se crea una seleccion especifica en el area especificada de la imagen\n",
    "    - se manipula la imagen seleccionando el area especifica de texto o numero \n",
    "  - se extrae el texto o se digita manualmente  \n",
    "- Consulta a base de datos con los datos obtenidos \n",
    "  - Se establece una conexxion a base de datos con los parametros establecidos\n",
    "  - Utillizando la informacion obtenida se realiza la consulta y se obtienen los datos devueltos \n",
    "- Creacion de DataFrame de acuerdo a las condiciones establecidas\n",
    "  - se realiza un modelo que reune:\n",
    "    - la informacion original, ubicada en el orden respectivo de columnas\n",
    "    - se establece la informacion en las coluymnas requeridas de acuerdo a los datos obtenidos en la base de datos \n",
    "    - se pone la debida informacion de acuerdo a las condiciones dadas."
   ]
  },
  {
   "cell_type": "code",
   "execution_count": 11,
   "metadata": {},
   "outputs": [],
   "source": [
    "#! pip remove mysql-connector-python\n",
    "\n",
    "#! pip freeze > requirements.txt\n",
    "# ! pip install -r requirements.txt\n",
    "#! pip install flask_mysqldb"
   ]
  },
  {
   "cell_type": "code",
   "execution_count": 10,
   "metadata": {},
   "outputs": [
    {
     "data": {
      "text/plain": [
       "0       https://shortextraction.grupomeiko.io/20230630...\n",
       "1       https://shortextraction.grupomeiko.io/20230630...\n",
       "2       https://shortextraction.grupomeiko.io/20230630...\n",
       "3       https://shortextraction.grupomeiko.io/20230630...\n",
       "4       https://shortextraction.grupomeiko.io/20230630...\n",
       "                              ...                        \n",
       "6178    https://shortextraction.grupomeiko.io/20230403...\n",
       "6179    https://shortextraction.grupomeiko.io/20230403...\n",
       "6180    https://shortextraction.grupomeiko.io/20230403...\n",
       "6181    https://shortextraction.grupomeiko.io/20230403...\n",
       "6182    https://shortextraction.grupomeiko.io/20230404...\n",
       "Name: FotoStickerFemsa, Length: 6183, dtype: object"
      ]
     },
     "execution_count": 10,
     "metadata": {},
     "output_type": "execute_result"
    }
   ],
   "source": [
    "import numpy as np\n",
    "import pandas as pd\n",
    "import requests\n",
    "import os\n",
    "\n",
    "csvFile = pd.read_csv('mt1.csv')\n",
    "\n",
    "csvFile[['FotoStickerFemsa','CodifoclienteKof_Mex','Tiene match?']].head()\n",
    "csvFile[['FotoStickerFemsa'][0]]"
   ]
  },
  {
   "cell_type": "code",
   "execution_count": 36,
   "metadata": {},
   "outputs": [
    {
     "data": {
      "text/plain": [
       "numpy.ndarray"
      ]
     },
     "execution_count": 36,
     "metadata": {},
     "output_type": "execute_result"
    }
   ],
   "source": [
    "f1=csvFile.tail(5)\n",
    "\n",
    "f1=f1.to_numpy()\n",
    "\n",
    "f1.shape\n"
   ]
  },
  {
   "cell_type": "code",
   "execution_count": 5,
   "metadata": {},
   "outputs": [
    {
     "name": "stdout",
     "output_type": "stream",
     "text": [
      "                           Place_id   Ciclo  idRegistroEncuesta  \\\n",
      "0  e6a76b04bf2491c7b29d07abd4ff7af8     623             6865944   \n",
      "1  1398082a5e7548eeeecd1f2353aadce8     623             6865940   \n",
      "2  3ff1065da3fdd1b2cd827e2727b2f3ef     623             6865833   \n",
      "3  ba2559ced84fb382e31cd189d03c495c     623             6865832   \n",
      "4  6db38c59aa36597f98125afc76cbf822  subido             6865829   \n",
      "\n",
      "   idEstablecimiento    NombreEstablecimiento               Direccion  \\\n",
      "0             980606   mivelanea la escondida        ZUMPANGO.46.1.1.   \n",
      "1             980602  Abarrotes Rosales Rojas        ZUMPANGO.46.1.1.   \n",
      "2             980598    antobitog msry y meme  NEZAHUALCOYOTL.1.4.3.B   \n",
      "3             980597           alitad y beear  NEZAHUALCOYOTL.1.4.3.A   \n",
      "4             928076              el progreso    CHIMALHUACAN.1.3.6.A   \n",
      "\n",
      "                                    FotoStickerFemsa  Imagen  \\\n",
      "0  https://shortextraction.grupomeiko.io/20230630...     NaN   \n",
      "1  https://shortextraction.grupomeiko.io/20230630...     NaN   \n",
      "2  https://shortextraction.grupomeiko.io/20230630...     NaN   \n",
      "3  https://shortextraction.grupomeiko.io/20230630...     NaN   \n",
      "4  https://shortextraction.grupomeiko.io/20230630...     NaN   \n",
      "\n",
      "  CodifoclienteKof_Mex                      Tiene match?  \\\n",
      "0            No aplica                         No aplica   \n",
      "1            No aplica                         No aplica   \n",
      "2            No aplica                         No aplica   \n",
      "3            No aplica                         No aplica   \n",
      "4            105311121  SI , idestablecimiento Diferente   \n",
      "\n",
      "  IdEstablecimeinto Matcheado Unnamed: 11  \n",
      "0                   No aplica   NO aplica  \n",
      "1                   No aplica   NO aplica  \n",
      "2                   No aplica   NO aplica  \n",
      "3                   No aplica   NO aplica  \n",
      "4                      759394     ajustar  \n"
     ]
    }
   ],
   "source": [
    "\n",
    "#csvFile.info()# show info type data frame\n",
    "\n",
    "#type(csvFile.columns)\n",
    "\n",
    "data=csvFile.head()\n",
    "\n",
    "print(data)"
   ]
  },
  {
   "cell_type": "code",
   "execution_count": 4,
   "metadata": {},
   "outputs": [
    {
     "name": "stdout",
     "output_type": "stream",
     "text": [
      "<class 'pandas.core.frame.DataFrame'>\n",
      "Index: 5 entries, 978 to 983\n",
      "Data columns (total 3 columns):\n",
      " #   Column                Non-Null Count  Dtype \n",
      "---  ------                --------------  ----- \n",
      " 0   idEstablecimiento     5 non-null      int64 \n",
      " 1   FotoStickerFemsa      5 non-null      object\n",
      " 2   CodifoclienteKof_Mex  0 non-null      object\n",
      "dtypes: int64(1), object(2)\n",
      "memory usage: 160.0+ bytes\n",
      "https://shortextraction.grupomeiko.io/20230626/626_3596995_FotoStickerFemsa.jpg\n",
      "True\n"
     ]
    }
   ],
   "source": [
    "#filter just empy fields in 'CodifoclienteKof_Mex'\n",
    "data1=csvFile.loc[csvFile['CodifoclienteKof_Mex'].notna()==False,['idEstablecimiento','FotoStickerFemsa','CodifoclienteKof_Mex']].head(5) #obtenenemos las filas que no tienen Codigo Aun\n",
    "\n",
    "#print the selected colums and description\n",
    "data1.info()\n",
    "print(data1.values[0][1])\n",
    "print(data1.values[0][1]=='https://shortextraction.grupomeiko.io/20230626/626_3596995_FotoStickerFemsa.jpg')\n",
    "#csvFile[['FotoStickerFemsa']].head(5) #obtenenemos las filas que no tienen Codigo Aun"
   ]
  },
  {
   "cell_type": "code",
   "execution_count": 5,
   "metadata": {},
   "outputs": [
    {
     "name": "stdout",
     "output_type": "stream",
     "text": [
      "Download complete!\n"
     ]
    }
   ],
   "source": [
    "#request to extract a specifi image\n",
    "from PIL import Image\n",
    "from io import BytesIO\n",
    "\n",
    "\n",
    "req = requests.get(data1.values[0][1])\n",
    "if req.status_code==200 :\n",
    "    code=data1.values[0][0]\n",
    "    nameImage=f'Img_{code}.jpg'\n",
    "    path=f'tmp/{nameImage}'\n",
    "    with open (path,'wb') as file:\n",
    "        file.write(req.content)\n",
    "    print('Download complete!')\n",
    "    #i = Image.open(BytesIO(req.content))\n",
    "else: print(f'Error Status Code {req.status_code}')"
   ]
  },
  {
   "cell_type": "code",
   "execution_count": 9,
   "metadata": {},
   "outputs": [
    {
     "name": "stdout",
     "output_type": "stream",
     "text": [
      "<class 'mysql.connector.cursor_cext.CMySQLCursor'>\n",
      "<class 'list'>\n",
      "[('265', '#I|265#N|170#B|1#C|10', datetime.datetime(2022, 12, 21, 17, 4, 48), 'Inactivo', 'COLOMBIA', '1', 2023, 'EDGE', 'BEBIDAS NO ALCOHOLICAS', 'CATEGORIA', 'LECHE LIQUIDA', '#I|265#N|170#B|1#C|10', 'TASA', 'BARRANQUILLA,BOGOTA,BUCARAMANGA,CALI,CARTAGENA,EJE CAFETERO,IBAGUE,MEDELLIN,NEIVA,SANTA MARTA', 'Autoservicio,Cafeteria,Panaderia,Tienda', 'ALPINA,ALQUERIA', None, '2022/12/21 08:31:31', 'EDGE', None, None), ('265', '#I|265#N|170#B|1#C|10#M|0#R|0', datetime.datetime(2022, 12, 21, 17, 4, 48), 'Inactivo', 'COLOMBIA', '1', 2023, 'EDGE', 'BEBIDAS NO ALCOHOLICAS', 'CATEGORIA,FABRICANTE,MARCA', 'LECHE LIQUIDA,OTROS FABRICANTES,OTRAS MARCAS', '#I|265#N|170#B|1#C|10#M|0#R|0', 'CARAS REGULAR,PRESENCIA,PRESENCIA DECLARADA', 'CALI,EJE CAFETERO', 'Autoservicio,Cafeteria,Panaderia,Tienda', 'ALPINA,ALQUERIA', None, '2022/12/21 08:31:31', 'EDGE', None, None), ('265', '#I|265#N|170#B|1#C|10#M|0#R|0#A|8_3', datetime.datetime(2022, 12, 21, 17, 4, 48), 'Inactivo', 'COLOMBIA', '1', 2023, 'EDGE', 'BEBIDAS NO ALCOHOLICAS', 'CATEGORIA,FABRICANTE,MARCA,TIPO', 'LECHE LIQUIDA,OTROS FABRICANTES,OTRAS MARCAS,DESLACTOSADA', '#I|265#N|170#B|1#C|10#M|0#R|0#A|8_3', 'PRESENCIA,PRESENCIA DECLARADA', 'BARRANQUILLA,BOGOTA,BUCARAMANGA,CALI,CARTAGENA,EJE CAFETERO,IBAGUE,MEDELLIN,NEIVA,SANTA MARTA', 'Autoservicio,Cafeteria,Panaderia,Tienda', 'ALPINA,ALQUERIA', None, '2022/12/21 08:31:31', 'EDGE', None, None), ('265', '#I|265#N|170#B|1#C|10#M|0#R|0#A|8_6', datetime.datetime(2022, 12, 21, 17, 4, 48), 'Inactivo', 'COLOMBIA', '1', 2023, 'EDGE', 'BEBIDAS NO ALCOHOLICAS', 'CATEGORIA,FABRICANTE,MARCA,TIPO', 'LECHE LIQUIDA,OTROS FABRICANTES,OTRAS MARCAS,ENTERA', '#I|265#N|170#B|1#C|10#M|0#R|0#A|8_6', 'PRESENCIA,PRESENCIA DECLARADA', 'BARRANQUILLA,BOGOTA,BUCARAMANGA,CALI,CARTAGENA,EJE CAFETERO,IBAGUE,MEDELLIN,NEIVA,SANTA MARTA', 'Autoservicio,Cafeteria,Panaderia,Tienda', 'ALPINA,ALQUERIA', None, '2022/12/21 08:31:31', 'EDGE', None, None), ('265', '#I|265#N|170#B|1#C|10#M|100#R|163', datetime.datetime(2022, 12, 21, 17, 4, 48), 'Inactivo', 'COLOMBIA', '1', 2023, 'EDGE', 'BEBIDAS NO ALCOHOLICAS', 'CATEGORIA,FABRICANTE,MARCA', 'LECHE LIQUIDA,ALIVAL,SAN FERNANDO', '#I|265#N|170#B|1#C|10#M|100#R|163', 'CARAS REGULAR,PRESENCIA,PRESENCIA DECLARADA', 'CALI,EJE CAFETERO', 'Autoservicio,Cafeteria,Panaderia,Tienda', 'ALPINA,ALQUERIA', None, '2022/12/21 08:31:31', 'EDGE', None, None), ('265', '#I|265#N|170#B|1#C|10#M|100#R|163#A|8_3#A|4_1#A|2_0', datetime.datetime(2022, 12, 21, 17, 4, 48), 'Inactivo', 'COLOMBIA', '1', 2023, 'EDGE', 'BEBIDAS NO ALCOHOLICAS', 'CATEGORIA,FABRICANTE,MARCA,TIPO,EMPAQUE,CONTENIDO', 'LECHE LIQUIDA,ALIVAL,SAN FERNANDO,DESLACTOSADA,BOLSA,OTRO(A)', '#I|265#N|170#B|1#C|10#M|100#R|163#A|8_3#A|4_1#A|2_0', 'PRESENCIA', 'CALI,EJE CAFETERO', 'Autoservicio,Cafeteria,Panaderia,Tienda', 'ALPINA,ALQUERIA', None, '2022/12/21 08:31:31', 'EDGE', None, None), ('265', '#I|265#N|170#B|1#C|10#M|100#R|163#A|8_3#A|4_1#A|2_16', datetime.datetime(2022, 12, 21, 17, 4, 48), 'Inactivo', 'COLOMBIA', '1', 2023, 'EDGE', 'BEBIDAS NO ALCOHOLICAS', 'CATEGORIA,FABRICANTE,MARCA,TIPO,EMPAQUE,CONTENIDO', 'LECHE LIQUIDA,ALIVAL,SAN FERNANDO,DESLACTOSADA,BOLSA,1100 ML', '#I|265#N|170#B|1#C|10#M|100#R|163#A|8_3#A|4_1#A|2_16', 'PRESENCIA,PRESENCIA DECLARADA', 'CALI,EJE CAFETERO', 'Autoservicio,Cafeteria,Panaderia,Tienda', 'ALPINA,ALQUERIA', None, '2022/12/21 08:31:31', 'EDGE', None, None), ('265', '#I|265#N|170#B|1#C|10#M|100#R|163#A|8_6#A|4_1#A|2_0', datetime.datetime(2022, 12, 21, 17, 4, 48), 'Inactivo', 'COLOMBIA', '1', 2023, 'EDGE', 'BEBIDAS NO ALCOHOLICAS', 'CATEGORIA,FABRICANTE,MARCA,TIPO,EMPAQUE,CONTENIDO', 'LECHE LIQUIDA,ALIVAL,SAN FERNANDO,ENTERA,BOLSA,OTRO(A)', '#I|265#N|170#B|1#C|10#M|100#R|163#A|8_6#A|4_1#A|2_0', 'PRESENCIA', 'CALI,EJE CAFETERO', 'Autoservicio,Cafeteria,Panaderia,Tienda', 'ALPINA,ALQUERIA', None, '2022/12/21 08:31:31', 'EDGE', None, None), ('265', '#I|265#N|170#B|1#C|10#M|100#R|163#A|8_6#A|4_1#A|2_16', datetime.datetime(2022, 12, 21, 17, 4, 48), 'Inactivo', 'COLOMBIA', '1', 2023, 'EDGE', 'BEBIDAS NO ALCOHOLICAS', 'CATEGORIA,FABRICANTE,MARCA,TIPO,EMPAQUE,CONTENIDO', 'LECHE LIQUIDA,ALIVAL,SAN FERNANDO,ENTERA,BOLSA,1100 ML', '#I|265#N|170#B|1#C|10#M|100#R|163#A|8_6#A|4_1#A|2_16', 'PRESENCIA,PRESENCIA DECLARADA', 'CALI,EJE CAFETERO', 'Autoservicio,Cafeteria,Panaderia,Tienda', 'ALPINA,ALQUERIA', None, '2022/12/21 08:31:31', 'EDGE', None, None), ('265', '#I|265#N|170#B|1#C|10#M|116#R|138', datetime.datetime(2022, 12, 21, 17, 4, 48), 'Inactivo', 'COLOMBIA', '1', 2023, 'EDGE', 'BEBIDAS NO ALCOHOLICAS', 'CATEGORIA,FABRICANTE,MARCA', 'LECHE LIQUIDA,ALPINA,ALPINA', '#I|265#N|170#B|1#C|10#M|116#R|138', 'CARAS REGULAR,PRESENCIA,PRESENCIA DECLARADA', 'CALI,EJE CAFETERO', 'Autoservicio,Cafeteria,Panaderia,Tienda', 'ALPINA,ALQUERIA', None, '2022/12/21 08:31:31', 'EDGE', None, None)]\n",
      "('265', '#I|265#N|170#B|1#C|10', datetime.datetime(2022, 12, 21, 17, 4, 48), 'Inactivo', 'COLOMBIA', '1', 2023, 'EDGE', 'BEBIDAS NO ALCOHOLICAS', 'CATEGORIA', 'LECHE LIQUIDA', '#I|265#N|170#B|1#C|10', 'TASA', 'BARRANQUILLA,BOGOTA,BUCARAMANGA,CALI,CARTAGENA,EJE CAFETERO,IBAGUE,MEDELLIN,NEIVA,SANTA MARTA', 'Autoservicio,Cafeteria,Panaderia,Tienda', 'ALPINA,ALQUERIA', None, '2022/12/21 08:31:31', 'EDGE', None, None)\n",
      "('265', '#I|265#N|170#B|1#C|10#M|0#R|0', datetime.datetime(2022, 12, 21, 17, 4, 48), 'Inactivo', 'COLOMBIA', '1', 2023, 'EDGE', 'BEBIDAS NO ALCOHOLICAS', 'CATEGORIA,FABRICANTE,MARCA', 'LECHE LIQUIDA,OTROS FABRICANTES,OTRAS MARCAS', '#I|265#N|170#B|1#C|10#M|0#R|0', 'CARAS REGULAR,PRESENCIA,PRESENCIA DECLARADA', 'CALI,EJE CAFETERO', 'Autoservicio,Cafeteria,Panaderia,Tienda', 'ALPINA,ALQUERIA', None, '2022/12/21 08:31:31', 'EDGE', None, None)\n",
      "('265', '#I|265#N|170#B|1#C|10#M|0#R|0#A|8_3', datetime.datetime(2022, 12, 21, 17, 4, 48), 'Inactivo', 'COLOMBIA', '1', 2023, 'EDGE', 'BEBIDAS NO ALCOHOLICAS', 'CATEGORIA,FABRICANTE,MARCA,TIPO', 'LECHE LIQUIDA,OTROS FABRICANTES,OTRAS MARCAS,DESLACTOSADA', '#I|265#N|170#B|1#C|10#M|0#R|0#A|8_3', 'PRESENCIA,PRESENCIA DECLARADA', 'BARRANQUILLA,BOGOTA,BUCARAMANGA,CALI,CARTAGENA,EJE CAFETERO,IBAGUE,MEDELLIN,NEIVA,SANTA MARTA', 'Autoservicio,Cafeteria,Panaderia,Tienda', 'ALPINA,ALQUERIA', None, '2022/12/21 08:31:31', 'EDGE', None, None)\n",
      "('265', '#I|265#N|170#B|1#C|10#M|0#R|0#A|8_6', datetime.datetime(2022, 12, 21, 17, 4, 48), 'Inactivo', 'COLOMBIA', '1', 2023, 'EDGE', 'BEBIDAS NO ALCOHOLICAS', 'CATEGORIA,FABRICANTE,MARCA,TIPO', 'LECHE LIQUIDA,OTROS FABRICANTES,OTRAS MARCAS,ENTERA', '#I|265#N|170#B|1#C|10#M|0#R|0#A|8_6', 'PRESENCIA,PRESENCIA DECLARADA', 'BARRANQUILLA,BOGOTA,BUCARAMANGA,CALI,CARTAGENA,EJE CAFETERO,IBAGUE,MEDELLIN,NEIVA,SANTA MARTA', 'Autoservicio,Cafeteria,Panaderia,Tienda', 'ALPINA,ALQUERIA', None, '2022/12/21 08:31:31', 'EDGE', None, None)\n",
      "('265', '#I|265#N|170#B|1#C|10#M|100#R|163', datetime.datetime(2022, 12, 21, 17, 4, 48), 'Inactivo', 'COLOMBIA', '1', 2023, 'EDGE', 'BEBIDAS NO ALCOHOLICAS', 'CATEGORIA,FABRICANTE,MARCA', 'LECHE LIQUIDA,ALIVAL,SAN FERNANDO', '#I|265#N|170#B|1#C|10#M|100#R|163', 'CARAS REGULAR,PRESENCIA,PRESENCIA DECLARADA', 'CALI,EJE CAFETERO', 'Autoservicio,Cafeteria,Panaderia,Tienda', 'ALPINA,ALQUERIA', None, '2022/12/21 08:31:31', 'EDGE', None, None)\n",
      "('265', '#I|265#N|170#B|1#C|10#M|100#R|163#A|8_3#A|4_1#A|2_0', datetime.datetime(2022, 12, 21, 17, 4, 48), 'Inactivo', 'COLOMBIA', '1', 2023, 'EDGE', 'BEBIDAS NO ALCOHOLICAS', 'CATEGORIA,FABRICANTE,MARCA,TIPO,EMPAQUE,CONTENIDO', 'LECHE LIQUIDA,ALIVAL,SAN FERNANDO,DESLACTOSADA,BOLSA,OTRO(A)', '#I|265#N|170#B|1#C|10#M|100#R|163#A|8_3#A|4_1#A|2_0', 'PRESENCIA', 'CALI,EJE CAFETERO', 'Autoservicio,Cafeteria,Panaderia,Tienda', 'ALPINA,ALQUERIA', None, '2022/12/21 08:31:31', 'EDGE', None, None)\n",
      "('265', '#I|265#N|170#B|1#C|10#M|100#R|163#A|8_3#A|4_1#A|2_16', datetime.datetime(2022, 12, 21, 17, 4, 48), 'Inactivo', 'COLOMBIA', '1', 2023, 'EDGE', 'BEBIDAS NO ALCOHOLICAS', 'CATEGORIA,FABRICANTE,MARCA,TIPO,EMPAQUE,CONTENIDO', 'LECHE LIQUIDA,ALIVAL,SAN FERNANDO,DESLACTOSADA,BOLSA,1100 ML', '#I|265#N|170#B|1#C|10#M|100#R|163#A|8_3#A|4_1#A|2_16', 'PRESENCIA,PRESENCIA DECLARADA', 'CALI,EJE CAFETERO', 'Autoservicio,Cafeteria,Panaderia,Tienda', 'ALPINA,ALQUERIA', None, '2022/12/21 08:31:31', 'EDGE', None, None)\n",
      "('265', '#I|265#N|170#B|1#C|10#M|100#R|163#A|8_6#A|4_1#A|2_0', datetime.datetime(2022, 12, 21, 17, 4, 48), 'Inactivo', 'COLOMBIA', '1', 2023, 'EDGE', 'BEBIDAS NO ALCOHOLICAS', 'CATEGORIA,FABRICANTE,MARCA,TIPO,EMPAQUE,CONTENIDO', 'LECHE LIQUIDA,ALIVAL,SAN FERNANDO,ENTERA,BOLSA,OTRO(A)', '#I|265#N|170#B|1#C|10#M|100#R|163#A|8_6#A|4_1#A|2_0', 'PRESENCIA', 'CALI,EJE CAFETERO', 'Autoservicio,Cafeteria,Panaderia,Tienda', 'ALPINA,ALQUERIA', None, '2022/12/21 08:31:31', 'EDGE', None, None)\n",
      "('265', '#I|265#N|170#B|1#C|10#M|100#R|163#A|8_6#A|4_1#A|2_16', datetime.datetime(2022, 12, 21, 17, 4, 48), 'Inactivo', 'COLOMBIA', '1', 2023, 'EDGE', 'BEBIDAS NO ALCOHOLICAS', 'CATEGORIA,FABRICANTE,MARCA,TIPO,EMPAQUE,CONTENIDO', 'LECHE LIQUIDA,ALIVAL,SAN FERNANDO,ENTERA,BOLSA,1100 ML', '#I|265#N|170#B|1#C|10#M|100#R|163#A|8_6#A|4_1#A|2_16', 'PRESENCIA,PRESENCIA DECLARADA', 'CALI,EJE CAFETERO', 'Autoservicio,Cafeteria,Panaderia,Tienda', 'ALPINA,ALQUERIA', None, '2022/12/21 08:31:31', 'EDGE', None, None)\n",
      "('265', '#I|265#N|170#B|1#C|10#M|116#R|138', datetime.datetime(2022, 12, 21, 17, 4, 48), 'Inactivo', 'COLOMBIA', '1', 2023, 'EDGE', 'BEBIDAS NO ALCOHOLICAS', 'CATEGORIA,FABRICANTE,MARCA', 'LECHE LIQUIDA,ALPINA,ALPINA', '#I|265#N|170#B|1#C|10#M|116#R|138', 'CARAS REGULAR,PRESENCIA,PRESENCIA DECLARADA', 'CALI,EJE CAFETERO', 'Autoservicio,Cafeteria,Panaderia,Tienda', 'ALPINA,ALQUERIA', None, '2022/12/21 08:31:31', 'EDGE', None, None)\n"
     ]
    }
   ],
   "source": [
    "from mysql.connector import connect , Error\n",
    "\n",
    "class DB():\n",
    "    def __init__(self):\n",
    "        self.host='meiko-prod.cmebrzxfmsvx.us-east-2.rds.amazonaws.com'\n",
    "        self.user='support_data'\n",
    "        self.password='puHnBWtMOzQzHarQMhnmhooy'\n",
    "        self.port=3306\n",
    "        \n",
    "        \n",
    "    def _newQuery(self, query):\n",
    "        try:\n",
    "            with connect(\n",
    "                host= self.host,\n",
    "                user= self.user,\n",
    "                password=self.password,\n",
    "                #self.port\n",
    "            ) as connection:\n",
    "                with connection.cursor() as cursor:\n",
    "                    return cursor.execute(query)\n",
    "        except Error as e:\n",
    "            return f'An Error ocurred {e}'\n",
    "        \n",
    "        \n",
    "import mysql.connector\n",
    "\n",
    "config = {\n",
    "  'user': 'support_data',\n",
    "  'password': 'puHnBWtMOzQzHarQMhnmhooy',\n",
    "  'host': 'meiko-prod.cmebrzxfmsvx.us-east-2.rds.amazonaws.com',\n",
    "  'database': 'jobOrder',\n",
    "  'port':3306,\n",
    "  'raise_on_warnings': True\n",
    "}\n",
    "\n",
    "cnx = mysql.connector.connect(**config)\n",
    "query = (\"SELECT * FROM jobOrder.sp_mega_job_nf WHERE anio =2023 LIMIT 10\")\n",
    "cursor=cnx.cursor()\n",
    "cursor.execute(query)\n",
    "\n",
    "print(type(cursor))\n",
    "for row in cursor:\n",
    "    print(row)\n",
    "\n",
    "cursor.close()\n",
    "cnx.close()\n",
    "        \n",
    "\n",
    "#newq=DB()  \n",
    "#print(newq._newQuery('SELECT * FROM jobOrder.sp_mega_job_nf'))"
   ]
  },
  {
   "cell_type": "code",
   "execution_count": null,
   "metadata": {},
   "outputs": [],
   "source": [
    "################ MApeo de datos Hash verification\n",
    "import mysql.connector\n",
    "import pprint\n",
    "\n",
    "config = {\n",
    "  'user': 'support_data',\n",
    "  'password': 'puHnBWtMOzQzHarQMhnmhooy',\n",
    "  'host': 'meiko-prod.cmebrzxfmsvx.us-east-2.rds.amazonaws.com',\n",
    "  'database': 'jobOrder',\n",
    "  'port':3306,\n",
    "  'raise_on_warnings': True\n",
    "}\n",
    "\n",
    "cnx = mysql.connector.connect(**config)\n",
    "\n",
    "querySpMegaJob = (f\"\"\"SELECT\n",
    "\tDISTINCT llave_job AS HASHMGJ, ll.tipos_medicion \n",
    "FROM\n",
    "\tjobOrder.sp_mega_job_nf ll\n",
    "WHERE\n",
    "\testado_job = '{status}'\n",
    "\tAND ciclo = '{cycle}'\n",
    "\tAND anio = '{anio}'\n",
    "\tAND pais = '{country}'\n",
    "\tAND estudio  = '{study}'\n",
    "\tAND tipos_medicion LIKE '%%'\n",
    "\tAND empresas LIKE '%{company}%';\"\"\")\n",
    "cursor=cnx.cursor()\n",
    "cursor.execute(querySpMegaJob)\n",
    "result=cursor.fetchall()\n",
    "print(type(result))\n",
    "newdict={}\n",
    "for row in result:\n",
    "    typesMed=str(row[1]).split(',')\n",
    "    for meditionType in typesMed:\n",
    "        #print(meditionType)\n",
    "        if not meditionType in newdict.keys():\n",
    "            newdict[meditionType]=[]\n",
    "        \n",
    "        if meditionType in row[1]:\n",
    "          newdict[meditionType]=newdict[meditionType]+[row[0]]\n",
    "  \n",
    "queryViewMapeoDatos=\"\"\"\n",
    "\n",
    "\"\"\"  \n",
    "#c=1          \n",
    "#for i in newdict:\n",
    "#  print(i[c],'\\n')\n",
    "#  c+=1            \n",
    "\n",
    "#print(newdict)\n",
    "\n",
    "pprint.pprint(newdict)\n",
    "\n",
    "# Sets 'pretty_dict_str' to the formatted string value\n",
    "#pretty_dict_str = pprint.pformat(newdict)\n",
    "\n",
    "cursor.close()\n",
    "cnx.close()\n",
    "\n",
    "\n",
    "#newq=DB()  \n",
    "#print(newq._newQuery('SELECT * FROM jobOrder.sp_mega_job_nf'))\n"
   ]
  }
 ],
 "metadata": {
  "kernelspec": {
   "display_name": ".venv",
   "language": "python",
   "name": "python3"
  },
  "language_info": {
   "codemirror_mode": {
    "name": "ipython",
    "version": 3
   },
   "file_extension": ".py",
   "mimetype": "text/x-python",
   "name": "python",
   "nbconvert_exporter": "python",
   "pygments_lexer": "ipython3",
   "version": "3.10.9"
  },
  "orig_nbformat": 4
 },
 "nbformat": 4,
 "nbformat_minor": 2
}
